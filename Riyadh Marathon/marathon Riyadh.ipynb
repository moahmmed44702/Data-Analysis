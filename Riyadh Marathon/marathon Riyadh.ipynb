{
 "cells": [
  {
   "cell_type": "markdown",
   "id": "1b889978",
   "metadata": {},
   "source": [
    "# Details:\n",
    "\n",
    "* The data was imported from Kaggle (https://www.kaggle.com/majedalhulayel/riyadh-marathon-2022-results-saudi-arabia)\n",
    "* It is a quick analysis on the Riyadh Marathon results."
   ]
  },
  {
   "cell_type": "code",
   "execution_count": 31,
   "id": "54f97fb0",
   "metadata": {},
   "outputs": [],
   "source": [
    "import pandas as pd\n",
    "import numpy as np\n",
    "import seaborn as sns\n",
    "import matplotlib.pyplot as plt\n"
   ]
  },
  {
   "cell_type": "code",
   "execution_count": 2,
   "id": "f51fadfb",
   "metadata": {},
   "outputs": [
    {
     "data": {
      "text/html": [
       "<div>\n",
       "<style scoped>\n",
       "    .dataframe tbody tr th:only-of-type {\n",
       "        vertical-align: middle;\n",
       "    }\n",
       "\n",
       "    .dataframe tbody tr th {\n",
       "        vertical-align: top;\n",
       "    }\n",
       "\n",
       "    .dataframe thead th {\n",
       "        text-align: right;\n",
       "    }\n",
       "</style>\n",
       "<table border=\"1\" class=\"dataframe\">\n",
       "  <thead>\n",
       "    <tr style=\"text-align: right;\">\n",
       "      <th></th>\n",
       "      <th>Rank</th>\n",
       "      <th>Gender Rank</th>\n",
       "      <th>Name</th>\n",
       "      <th>Gender</th>\n",
       "      <th>Category</th>\n",
       "      <th>Nationality</th>\n",
       "      <th>Gun Time</th>\n",
       "      <th>Chip Time</th>\n",
       "      <th>Speed</th>\n",
       "      <th>Pace</th>\n",
       "      <th>Distance</th>\n",
       "    </tr>\n",
       "  </thead>\n",
       "  <tbody>\n",
       "    <tr>\n",
       "      <th>0</th>\n",
       "      <td>46 / 2285</td>\n",
       "      <td>1 / 761</td>\n",
       "      <td>6b848725-e44d-42d8-a278-ae67faa9cb80</td>\n",
       "      <td>Female</td>\n",
       "      <td>10KM RUN</td>\n",
       "      <td>[img:flags/SA.gif]</td>\n",
       "      <td>00:42:59.556</td>\n",
       "      <td>00:42:57.505</td>\n",
       "      <td>13.9 Km/Hr</td>\n",
       "      <td>4:17 min/km</td>\n",
       "      <td>10 KM</td>\n",
       "    </tr>\n",
       "    <tr>\n",
       "      <th>1</th>\n",
       "      <td>53 / 2285</td>\n",
       "      <td>2 / 761</td>\n",
       "      <td>6b848725-e44d-42d8-a278-ae67faa9cb80</td>\n",
       "      <td>Female</td>\n",
       "      <td>10KM RUN</td>\n",
       "      <td>[img:flags/CZ.gif]</td>\n",
       "      <td>00:43:28.175</td>\n",
       "      <td>00:43:24.774</td>\n",
       "      <td>13.8 Km/Hr</td>\n",
       "      <td>4:20 min/km</td>\n",
       "      <td>10 KM</td>\n",
       "    </tr>\n",
       "    <tr>\n",
       "      <th>2</th>\n",
       "      <td>55 / 2285</td>\n",
       "      <td>3 / 761</td>\n",
       "      <td>6b848725-e44d-42d8-a278-ae67faa9cb80</td>\n",
       "      <td>Female</td>\n",
       "      <td>10KM RUN</td>\n",
       "      <td>[img:flags/SA.gif]</td>\n",
       "      <td>00:44:00.251</td>\n",
       "      <td>00:43:56.317</td>\n",
       "      <td>13.6 Km/Hr</td>\n",
       "      <td>4:23 min/km</td>\n",
       "      <td>10 KM</td>\n",
       "    </tr>\n",
       "    <tr>\n",
       "      <th>3</th>\n",
       "      <td>88 / 2285</td>\n",
       "      <td>4 / 761</td>\n",
       "      <td>6b848725-e44d-42d8-a278-ae67faa9cb80</td>\n",
       "      <td>Female</td>\n",
       "      <td>10KM RUN</td>\n",
       "      <td>[img:flags/MA.gif]</td>\n",
       "      <td>00:48:28.115</td>\n",
       "      <td>00:48:22.908</td>\n",
       "      <td>12.4 Km/Hr</td>\n",
       "      <td>4:50 min/km</td>\n",
       "      <td>10 KM</td>\n",
       "    </tr>\n",
       "    <tr>\n",
       "      <th>4</th>\n",
       "      <td>93 / 2285</td>\n",
       "      <td>5 / 761</td>\n",
       "      <td>6b848725-e44d-42d8-a278-ae67faa9cb80</td>\n",
       "      <td>Female</td>\n",
       "      <td>10KM RUN</td>\n",
       "      <td>[img:flags/SA.gif]</td>\n",
       "      <td>00:58:37.753</td>\n",
       "      <td>00:48:27.714</td>\n",
       "      <td>12.3 Km/Hr</td>\n",
       "      <td>4:50 min/km</td>\n",
       "      <td>10 KM</td>\n",
       "    </tr>\n",
       "    <tr>\n",
       "      <th>...</th>\n",
       "      <td>...</td>\n",
       "      <td>...</td>\n",
       "      <td>...</td>\n",
       "      <td>...</td>\n",
       "      <td>...</td>\n",
       "      <td>...</td>\n",
       "      <td>...</td>\n",
       "      <td>...</td>\n",
       "      <td>...</td>\n",
       "      <td>...</td>\n",
       "      <td>...</td>\n",
       "    </tr>\n",
       "    <tr>\n",
       "      <th>6392</th>\n",
       "      <td>5 / 6</td>\n",
       "      <td>2 / 3</td>\n",
       "      <td>cde359f8-5d73-4426-8ba6-cf021cfddbfc</td>\n",
       "      <td>Female</td>\n",
       "      <td>HALF MARATHON ELITE</td>\n",
       "      <td>[img:flags/ET.gif]</td>\n",
       "      <td>01:12:12.475</td>\n",
       "      <td>01:12:08.442</td>\n",
       "      <td>17.5 Km/Hr</td>\n",
       "      <td>3:25 min/km</td>\n",
       "      <td>21.1 KM</td>\n",
       "    </tr>\n",
       "    <tr>\n",
       "      <th>6393</th>\n",
       "      <td>6 / 6</td>\n",
       "      <td>3 / 3</td>\n",
       "      <td>cde359f8-5d73-4426-8ba6-cf021cfddbfc</td>\n",
       "      <td>Female</td>\n",
       "      <td>HALF MARATHON ELITE</td>\n",
       "      <td>[img:flags/UA.gif]</td>\n",
       "      <td>01:18:23.645</td>\n",
       "      <td>01:18:20.056</td>\n",
       "      <td>16.1 Km/Hr</td>\n",
       "      <td>3:42 min/km</td>\n",
       "      <td>21.1 KM</td>\n",
       "    </tr>\n",
       "    <tr>\n",
       "      <th>6394</th>\n",
       "      <td>1 / 6</td>\n",
       "      <td>1 / 3</td>\n",
       "      <td>7aa1ce03-6d9c-4b53-93a9-d01b1bae7334</td>\n",
       "      <td>Male</td>\n",
       "      <td>HALF MARATHON ELITE</td>\n",
       "      <td>[img:flags/KE.gif]</td>\n",
       "      <td>01:04:04.250</td>\n",
       "      <td>01:04:00.497</td>\n",
       "      <td>19.7 Km/Hr</td>\n",
       "      <td>3:02 min/km</td>\n",
       "      <td>21.1 KM</td>\n",
       "    </tr>\n",
       "    <tr>\n",
       "      <th>6395</th>\n",
       "      <td>2 / 6</td>\n",
       "      <td>2 / 3</td>\n",
       "      <td>7aa1ce03-6d9c-4b53-93a9-d01b1bae7334</td>\n",
       "      <td>Male</td>\n",
       "      <td>HALF MARATHON ELITE</td>\n",
       "      <td>[img:flags/KE.gif]</td>\n",
       "      <td>01:04:06.571</td>\n",
       "      <td>01:04:03.202</td>\n",
       "      <td>19.7 Km/Hr</td>\n",
       "      <td>3:02 min/km</td>\n",
       "      <td>21.1 KM</td>\n",
       "    </tr>\n",
       "    <tr>\n",
       "      <th>6396</th>\n",
       "      <td>3 / 6</td>\n",
       "      <td>3 / 3</td>\n",
       "      <td>7aa1ce03-6d9c-4b53-93a9-d01b1bae7334</td>\n",
       "      <td>Male</td>\n",
       "      <td>HALF MARATHON ELITE</td>\n",
       "      <td>[img:flags/KE.gif]</td>\n",
       "      <td>01:04:09.986</td>\n",
       "      <td>01:04:06.290</td>\n",
       "      <td>19.7 Km/Hr</td>\n",
       "      <td>3:02 min/km</td>\n",
       "      <td>21.1 KM</td>\n",
       "    </tr>\n",
       "  </tbody>\n",
       "</table>\n",
       "<p>6397 rows × 11 columns</p>\n",
       "</div>"
      ],
      "text/plain": [
       "           Rank Gender Rank                                  Name  Gender  \\\n",
       "0     46 / 2285     1 / 761  6b848725-e44d-42d8-a278-ae67faa9cb80  Female   \n",
       "1     53 / 2285     2 / 761  6b848725-e44d-42d8-a278-ae67faa9cb80  Female   \n",
       "2     55 / 2285     3 / 761  6b848725-e44d-42d8-a278-ae67faa9cb80  Female   \n",
       "3     88 / 2285     4 / 761  6b848725-e44d-42d8-a278-ae67faa9cb80  Female   \n",
       "4     93 / 2285     5 / 761  6b848725-e44d-42d8-a278-ae67faa9cb80  Female   \n",
       "...         ...         ...                                   ...     ...   \n",
       "6392      5 / 6       2 / 3  cde359f8-5d73-4426-8ba6-cf021cfddbfc  Female   \n",
       "6393      6 / 6       3 / 3  cde359f8-5d73-4426-8ba6-cf021cfddbfc  Female   \n",
       "6394      1 / 6       1 / 3  7aa1ce03-6d9c-4b53-93a9-d01b1bae7334    Male   \n",
       "6395      2 / 6       2 / 3  7aa1ce03-6d9c-4b53-93a9-d01b1bae7334    Male   \n",
       "6396      3 / 6       3 / 3  7aa1ce03-6d9c-4b53-93a9-d01b1bae7334    Male   \n",
       "\n",
       "                 Category         Nationality      Gun Time     Chip Time  \\\n",
       "0                10KM RUN  [img:flags/SA.gif]  00:42:59.556  00:42:57.505   \n",
       "1                10KM RUN  [img:flags/CZ.gif]  00:43:28.175  00:43:24.774   \n",
       "2                10KM RUN  [img:flags/SA.gif]  00:44:00.251  00:43:56.317   \n",
       "3                10KM RUN  [img:flags/MA.gif]  00:48:28.115  00:48:22.908   \n",
       "4                10KM RUN  [img:flags/SA.gif]  00:58:37.753  00:48:27.714   \n",
       "...                   ...                 ...           ...           ...   \n",
       "6392  HALF MARATHON ELITE  [img:flags/ET.gif]  01:12:12.475  01:12:08.442   \n",
       "6393  HALF MARATHON ELITE  [img:flags/UA.gif]  01:18:23.645  01:18:20.056   \n",
       "6394  HALF MARATHON ELITE  [img:flags/KE.gif]  01:04:04.250  01:04:00.497   \n",
       "6395  HALF MARATHON ELITE  [img:flags/KE.gif]  01:04:06.571  01:04:03.202   \n",
       "6396  HALF MARATHON ELITE  [img:flags/KE.gif]  01:04:09.986  01:04:06.290   \n",
       "\n",
       "           Speed         Pace Distance  \n",
       "0     13.9 Km/Hr  4:17 min/km    10 KM  \n",
       "1     13.8 Km/Hr  4:20 min/km    10 KM  \n",
       "2     13.6 Km/Hr  4:23 min/km    10 KM  \n",
       "3     12.4 Km/Hr  4:50 min/km    10 KM  \n",
       "4     12.3 Km/Hr  4:50 min/km    10 KM  \n",
       "...          ...          ...      ...  \n",
       "6392  17.5 Km/Hr  3:25 min/km  21.1 KM  \n",
       "6393  16.1 Km/Hr  3:42 min/km  21.1 KM  \n",
       "6394  19.7 Km/Hr  3:02 min/km  21.1 KM  \n",
       "6395  19.7 Km/Hr  3:02 min/km  21.1 KM  \n",
       "6396  19.7 Km/Hr  3:02 min/km  21.1 KM  \n",
       "\n",
       "[6397 rows x 11 columns]"
      ]
     },
     "execution_count": 2,
     "metadata": {},
     "output_type": "execute_result"
    }
   ],
   "source": [
    "df = pd.read_csv(r'C:\\Users\\ASUS\\Desktop\\ICS 104\\Data Science Stuff\\Riyadh Marathon\\Riyadh Marathon Results.csv')\n",
    "\n",
    "del df['Unnamed: 0']\n",
    "df"
   ]
  },
  {
   "cell_type": "code",
   "execution_count": 3,
   "id": "1531fb52",
   "metadata": {},
   "outputs": [
    {
     "data": {
      "text/plain": [
       "Rank             0\n",
       "Gender Rank      0\n",
       "Name             0\n",
       "Gender           0\n",
       "Category         0\n",
       "Nationality    312\n",
       "Gun Time         0\n",
       "Chip Time      170\n",
       "Speed          170\n",
       "Pace           170\n",
       "Distance         0\n",
       "dtype: int64"
      ]
     },
     "execution_count": 3,
     "metadata": {},
     "output_type": "execute_result"
    }
   ],
   "source": [
    "df.isna().sum()"
   ]
  },
  {
   "cell_type": "code",
   "execution_count": 4,
   "id": "90bab2e8",
   "metadata": {},
   "outputs": [
    {
     "name": "stdout",
     "output_type": "stream",
     "text": [
      "-------------------------------------------------\n",
      "Percentage of null values for each column\n",
      "-------------------------------------------------\n",
      "\n"
     ]
    },
    {
     "data": {
      "text/plain": [
       "<AxesSubplot:>"
      ]
     },
     "execution_count": 4,
     "metadata": {},
     "output_type": "execute_result"
    },
    {
     "data": {
      "image/png": "[encoded data removed]",
      "text/plain": [
       "<Figure size 432x288 with 1 Axes>"
      ]
     },
     "metadata": {
      "needs_background": "light"
     },
     "output_type": "display_data"
    }
   ],
   "source": [
    "print('-------------------------------------------------')\n",
    "print('Percentage of null values for each column')\n",
    "print('-------------------------------------------------')\n",
    "print()\n",
    "\n",
    "percentage_missing_values = df.isnull().sum()/len(df)\n",
    "\n",
    "percentage_only_missing_values = percentage_missing_values[percentage_missing_values != 0]\n",
    "\n",
    "percentage_only_missing_values.plot(kind='barh')"
   ]
  },
  {
   "cell_type": "code",
   "execution_count": 5,
   "id": "88b0da1d",
   "metadata": {},
   "outputs": [
    {
     "data": {
      "text/plain": [
       "Index(['Rank', 'Gender Rank', 'Name', 'Gender', 'Category', 'Nationality',\n",
       "       'Gun Time', 'Chip Time', 'Speed', 'Pace', 'Distance'],\n",
       "      dtype='object')"
      ]
     },
     "execution_count": 5,
     "metadata": {},
     "output_type": "execute_result"
    }
   ],
   "source": [
    "df.columns"
   ]
  },
  {
   "cell_type": "code",
   "execution_count": 6,
   "id": "ffbf1043",
   "metadata": {},
   "outputs": [
    {
     "name": "stdout",
     "output_type": "stream",
     "text": [
      "Females are 0.33 of all participants in 10KM RUN while Males are 0.67\n",
      "Females are 0.47 of all participants in 4KM FUN RUN while Males are 0.53\n",
      "Females are 0.2 of all participants in HALF MARATHON while Males are 0.8\n",
      "Females are 0.14 of all participants in MARATHON while Males are 0.86\n",
      "Females are 0.41 of all participants in MARATHON ELITE while Males are 0.59\n",
      "Females are 0.5 of all participants in HALF MARATHON ELITE while Males are 0.5\n"
     ]
    }
   ],
   "source": [
    "categories = df.Category.unique()\n",
    "\n",
    "\n",
    "\n",
    "def percentage (category):\n",
    "    x = df[df['Category']==category]\n",
    "    percentageFemale = round((len(x[x['Gender'] == 'Female'])/len(x)),2)\n",
    "    percentageMale = round((len(x[x['Gender'] == 'Male'])/len(x)),2)\n",
    "    return percentageFemale, percentageMale\n",
    "\n",
    "y=0\n",
    "for x in categories:\n",
    "    print('Females are', percentage(x)[0],'of all participants in',categories[y], 'while Males are', percentage(x)[1])\n",
    "    y+=1\n",
    "\n",
    "\n",
    "\n"
   ]
  },
  {
   "cell_type": "code",
   "execution_count": 7,
   "id": "4e4e2614",
   "metadata": {},
   "outputs": [
    {
     "data": {
      "image/png": "[encoded data removed]",
      "text/plain": [
       "<Figure size 432x288 with 1 Axes>"
      ]
     },
     "metadata": {},
     "output_type": "display_data"
    },
    {
     "data": {
      "image/png": "[encoded data removed]",
      "text/plain": [
       "<Figure size 432x288 with 1 Axes>"
      ]
     },
     "metadata": {},
     "output_type": "display_data"
    },
    {
     "data": {
      "image/png": "[encoded data removed]",
      "text/plain": [
       "<Figure size 432x288 with 1 Axes>"
      ]
     },
     "metadata": {},
     "output_type": "display_data"
    },
    {
     "data": {
      "image/png": "[encoded data removed]",
      "text/plain": [
       "<Figure size 432x288 with 1 Axes>"
      ]
     },
     "metadata": {},
     "output_type": "display_data"
    },
    {
     "data": {
      "image/png": "[encoded data removed]",
      "text/plain": [
       "<Figure size 432x288 with 1 Axes>"
      ]
     },
     "metadata": {},
     "output_type": "display_data"
    },
    {
     "data": {
      "image/png": "[encoded data removed]",
      "text/plain": [
       "<Figure size 432x288 with 1 Axes>"
      ]
     },
     "metadata": {},
     "output_type": "display_data"
    }
   ],
   "source": [
    "def piechart (category):\n",
    "    x = df[df['Category']==category]\n",
    "    cat_arr = np.array(x['Gender'])\n",
    "\n",
    "    gender_labels, gender_counts = np.unique(x['Gender'],return_counts=True)\n",
    "\n",
    "\n",
    "    plt.figure()\n",
    "    plt.pie(gender_counts, labels = gender_labels,autopct='%.2f%%') #autopct to format labels\n",
    "    plt.title(category)\n",
    "    plt.show()\n",
    "\n",
    "\n",
    "for x in categories:\n",
    "    piechart(x)"
   ]
  },
  {
   "cell_type": "code",
   "execution_count": 8,
   "id": "796fbf9d",
   "metadata": {},
   "outputs": [
    {
     "name": "stdout",
     "output_type": "stream",
     "text": [
      "<class 'pandas.core.frame.DataFrame'>\n",
      "RangeIndex: 6397 entries, 0 to 6396\n",
      "Data columns (total 11 columns):\n",
      " #   Column       Non-Null Count  Dtype \n",
      "---  ------       --------------  ----- \n",
      " 0   Rank         6397 non-null   object\n",
      " 1   Gender Rank  6397 non-null   object\n",
      " 2   Name         6397 non-null   object\n",
      " 3   Gender       6397 non-null   object\n",
      " 4   Category     6397 non-null   object\n",
      " 5   Nationality  6085 non-null   object\n",
      " 6   Gun Time     6397 non-null   object\n",
      " 7   Chip Time    6227 non-null   object\n",
      " 8   Speed        6227 non-null   object\n",
      " 9   Pace         6227 non-null   object\n",
      " 10  Distance     6397 non-null   object\n",
      "dtypes: object(11)\n",
      "memory usage: 549.9+ KB\n"
     ]
    }
   ],
   "source": [
    "df.info()"
   ]
  },
  {
   "cell_type": "code",
   "execution_count": 9,
   "id": "939411a3",
   "metadata": {},
   "outputs": [],
   "source": [
    "df['Chip Time'] = pd.to_timedelta(df['Chip Time'])"
   ]
  },
  {
   "cell_type": "code",
   "execution_count": 10,
   "id": "aa27a4db",
   "metadata": {},
   "outputs": [],
   "source": [
    "df['Pace'] = df['Pace'].apply(lambda x: str(x))\n",
    "\n",
    "df['Pace'] = df['Pace'].apply(lambda x: x.split(' ')[0].replace(':','.'))\n",
    "\n",
    "df = df.rename(columns={'Pace': 'Pace (min/km)'})"
   ]
  },
  {
   "cell_type": "code",
   "execution_count": 11,
   "id": "74cf827d",
   "metadata": {},
   "outputs": [
    {
     "data": {
      "text/html": [
       "<div>\n",
       "<style scoped>\n",
       "    .dataframe tbody tr th:only-of-type {\n",
       "        vertical-align: middle;\n",
       "    }\n",
       "\n",
       "    .dataframe tbody tr th {\n",
       "        vertical-align: top;\n",
       "    }\n",
       "\n",
       "    .dataframe thead th {\n",
       "        text-align: right;\n",
       "    }\n",
       "</style>\n",
       "<table border=\"1\" class=\"dataframe\">\n",
       "  <thead>\n",
       "    <tr style=\"text-align: right;\">\n",
       "      <th></th>\n",
       "      <th>Rank</th>\n",
       "      <th>Gender Rank</th>\n",
       "      <th>Name</th>\n",
       "      <th>Gender</th>\n",
       "      <th>Category</th>\n",
       "      <th>Nationality</th>\n",
       "      <th>Gun Time</th>\n",
       "      <th>Chip Time</th>\n",
       "      <th>Speed</th>\n",
       "      <th>Pace (min/km)</th>\n",
       "      <th>Distance</th>\n",
       "    </tr>\n",
       "  </thead>\n",
       "  <tbody>\n",
       "    <tr>\n",
       "      <th>0</th>\n",
       "      <td>46 / 2285</td>\n",
       "      <td>1 / 761</td>\n",
       "      <td>6b848725-e44d-42d8-a278-ae67faa9cb80</td>\n",
       "      <td>Female</td>\n",
       "      <td>10KM RUN</td>\n",
       "      <td>[img:flags/SA.gif]</td>\n",
       "      <td>00:42:59.556</td>\n",
       "      <td>0 days 00:42:57.505000</td>\n",
       "      <td>13.9 Km/Hr</td>\n",
       "      <td>4.17</td>\n",
       "      <td>10 KM</td>\n",
       "    </tr>\n",
       "    <tr>\n",
       "      <th>1</th>\n",
       "      <td>53 / 2285</td>\n",
       "      <td>2 / 761</td>\n",
       "      <td>6b848725-e44d-42d8-a278-ae67faa9cb80</td>\n",
       "      <td>Female</td>\n",
       "      <td>10KM RUN</td>\n",
       "      <td>[img:flags/CZ.gif]</td>\n",
       "      <td>00:43:28.175</td>\n",
       "      <td>0 days 00:43:24.774000</td>\n",
       "      <td>13.8 Km/Hr</td>\n",
       "      <td>4.20</td>\n",
       "      <td>10 KM</td>\n",
       "    </tr>\n",
       "    <tr>\n",
       "      <th>2</th>\n",
       "      <td>55 / 2285</td>\n",
       "      <td>3 / 761</td>\n",
       "      <td>6b848725-e44d-42d8-a278-ae67faa9cb80</td>\n",
       "      <td>Female</td>\n",
       "      <td>10KM RUN</td>\n",
       "      <td>[img:flags/SA.gif]</td>\n",
       "      <td>00:44:00.251</td>\n",
       "      <td>0 days 00:43:56.317000</td>\n",
       "      <td>13.6 Km/Hr</td>\n",
       "      <td>4.23</td>\n",
       "      <td>10 KM</td>\n",
       "    </tr>\n",
       "    <tr>\n",
       "      <th>3</th>\n",
       "      <td>88 / 2285</td>\n",
       "      <td>4 / 761</td>\n",
       "      <td>6b848725-e44d-42d8-a278-ae67faa9cb80</td>\n",
       "      <td>Female</td>\n",
       "      <td>10KM RUN</td>\n",
       "      <td>[img:flags/MA.gif]</td>\n",
       "      <td>00:48:28.115</td>\n",
       "      <td>0 days 00:48:22.908000</td>\n",
       "      <td>12.4 Km/Hr</td>\n",
       "      <td>4.50</td>\n",
       "      <td>10 KM</td>\n",
       "    </tr>\n",
       "    <tr>\n",
       "      <th>4</th>\n",
       "      <td>93 / 2285</td>\n",
       "      <td>5 / 761</td>\n",
       "      <td>6b848725-e44d-42d8-a278-ae67faa9cb80</td>\n",
       "      <td>Female</td>\n",
       "      <td>10KM RUN</td>\n",
       "      <td>[img:flags/SA.gif]</td>\n",
       "      <td>00:58:37.753</td>\n",
       "      <td>0 days 00:48:27.714000</td>\n",
       "      <td>12.3 Km/Hr</td>\n",
       "      <td>4.50</td>\n",
       "      <td>10 KM</td>\n",
       "    </tr>\n",
       "    <tr>\n",
       "      <th>...</th>\n",
       "      <td>...</td>\n",
       "      <td>...</td>\n",
       "      <td>...</td>\n",
       "      <td>...</td>\n",
       "      <td>...</td>\n",
       "      <td>...</td>\n",
       "      <td>...</td>\n",
       "      <td>...</td>\n",
       "      <td>...</td>\n",
       "      <td>...</td>\n",
       "      <td>...</td>\n",
       "    </tr>\n",
       "    <tr>\n",
       "      <th>6392</th>\n",
       "      <td>5 / 6</td>\n",
       "      <td>2 / 3</td>\n",
       "      <td>cde359f8-5d73-4426-8ba6-cf021cfddbfc</td>\n",
       "      <td>Female</td>\n",
       "      <td>HALF MARATHON ELITE</td>\n",
       "      <td>[img:flags/ET.gif]</td>\n",
       "      <td>01:12:12.475</td>\n",
       "      <td>0 days 01:12:08.442000</td>\n",
       "      <td>17.5 Km/Hr</td>\n",
       "      <td>3.25</td>\n",
       "      <td>21.1 KM</td>\n",
       "    </tr>\n",
       "    <tr>\n",
       "      <th>6393</th>\n",
       "      <td>6 / 6</td>\n",
       "      <td>3 / 3</td>\n",
       "      <td>cde359f8-5d73-4426-8ba6-cf021cfddbfc</td>\n",
       "      <td>Female</td>\n",
       "      <td>HALF MARATHON ELITE</td>\n",
       "      <td>[img:flags/UA.gif]</td>\n",
       "      <td>01:18:23.645</td>\n",
       "      <td>0 days 01:18:20.056000</td>\n",
       "      <td>16.1 Km/Hr</td>\n",
       "      <td>3.42</td>\n",
       "      <td>21.1 KM</td>\n",
       "    </tr>\n",
       "    <tr>\n",
       "      <th>6394</th>\n",
       "      <td>1 / 6</td>\n",
       "      <td>1 / 3</td>\n",
       "      <td>7aa1ce03-6d9c-4b53-93a9-d01b1bae7334</td>\n",
       "      <td>Male</td>\n",
       "      <td>HALF MARATHON ELITE</td>\n",
       "      <td>[img:flags/KE.gif]</td>\n",
       "      <td>01:04:04.250</td>\n",
       "      <td>0 days 01:04:00.497000</td>\n",
       "      <td>19.7 Km/Hr</td>\n",
       "      <td>3.02</td>\n",
       "      <td>21.1 KM</td>\n",
       "    </tr>\n",
       "    <tr>\n",
       "      <th>6395</th>\n",
       "      <td>2 / 6</td>\n",
       "      <td>2 / 3</td>\n",
       "      <td>7aa1ce03-6d9c-4b53-93a9-d01b1bae7334</td>\n",
       "      <td>Male</td>\n",
       "      <td>HALF MARATHON ELITE</td>\n",
       "      <td>[img:flags/KE.gif]</td>\n",
       "      <td>01:04:06.571</td>\n",
       "      <td>0 days 01:04:03.202000</td>\n",
       "      <td>19.7 Km/Hr</td>\n",
       "      <td>3.02</td>\n",
       "      <td>21.1 KM</td>\n",
       "    </tr>\n",
       "    <tr>\n",
       "      <th>6396</th>\n",
       "      <td>3 / 6</td>\n",
       "      <td>3 / 3</td>\n",
       "      <td>7aa1ce03-6d9c-4b53-93a9-d01b1bae7334</td>\n",
       "      <td>Male</td>\n",
       "      <td>HALF MARATHON ELITE</td>\n",
       "      <td>[img:flags/KE.gif]</td>\n",
       "      <td>01:04:09.986</td>\n",
       "      <td>0 days 01:04:06.290000</td>\n",
       "      <td>19.7 Km/Hr</td>\n",
       "      <td>3.02</td>\n",
       "      <td>21.1 KM</td>\n",
       "    </tr>\n",
       "  </tbody>\n",
       "</table>\n",
       "<p>6397 rows × 11 columns</p>\n",
       "</div>"
      ],
      "text/plain": [
       "           Rank Gender Rank                                  Name  Gender  \\\n",
       "0     46 / 2285     1 / 761  6b848725-e44d-42d8-a278-ae67faa9cb80  Female   \n",
       "1     53 / 2285     2 / 761  6b848725-e44d-42d8-a278-ae67faa9cb80  Female   \n",
       "2     55 / 2285     3 / 761  6b848725-e44d-42d8-a278-ae67faa9cb80  Female   \n",
       "3     88 / 2285     4 / 761  6b848725-e44d-42d8-a278-ae67faa9cb80  Female   \n",
       "4     93 / 2285     5 / 761  6b848725-e44d-42d8-a278-ae67faa9cb80  Female   \n",
       "...         ...         ...                                   ...     ...   \n",
       "6392      5 / 6       2 / 3  cde359f8-5d73-4426-8ba6-cf021cfddbfc  Female   \n",
       "6393      6 / 6       3 / 3  cde359f8-5d73-4426-8ba6-cf021cfddbfc  Female   \n",
       "6394      1 / 6       1 / 3  7aa1ce03-6d9c-4b53-93a9-d01b1bae7334    Male   \n",
       "6395      2 / 6       2 / 3  7aa1ce03-6d9c-4b53-93a9-d01b1bae7334    Male   \n",
       "6396      3 / 6       3 / 3  7aa1ce03-6d9c-4b53-93a9-d01b1bae7334    Male   \n",
       "\n",
       "                 Category         Nationality      Gun Time  \\\n",
       "0                10KM RUN  [img:flags/SA.gif]  00:42:59.556   \n",
       "1                10KM RUN  [img:flags/CZ.gif]  00:43:28.175   \n",
       "2                10KM RUN  [img:flags/SA.gif]  00:44:00.251   \n",
       "3                10KM RUN  [img:flags/MA.gif]  00:48:28.115   \n",
       "4                10KM RUN  [img:flags/SA.gif]  00:58:37.753   \n",
       "...                   ...                 ...           ...   \n",
       "6392  HALF MARATHON ELITE  [img:flags/ET.gif]  01:12:12.475   \n",
       "6393  HALF MARATHON ELITE  [img:flags/UA.gif]  01:18:23.645   \n",
       "6394  HALF MARATHON ELITE  [img:flags/KE.gif]  01:04:04.250   \n",
       "6395  HALF MARATHON ELITE  [img:flags/KE.gif]  01:04:06.571   \n",
       "6396  HALF MARATHON ELITE  [img:flags/KE.gif]  01:04:09.986   \n",
       "\n",
       "                  Chip Time       Speed Pace (min/km) Distance  \n",
       "0    0 days 00:42:57.505000  13.9 Km/Hr          4.17    10 KM  \n",
       "1    0 days 00:43:24.774000  13.8 Km/Hr          4.20    10 KM  \n",
       "2    0 days 00:43:56.317000  13.6 Km/Hr          4.23    10 KM  \n",
       "3    0 days 00:48:22.908000  12.4 Km/Hr          4.50    10 KM  \n",
       "4    0 days 00:48:27.714000  12.3 Km/Hr          4.50    10 KM  \n",
       "...                     ...         ...           ...      ...  \n",
       "6392 0 days 01:12:08.442000  17.5 Km/Hr          3.25  21.1 KM  \n",
       "6393 0 days 01:18:20.056000  16.1 Km/Hr          3.42  21.1 KM  \n",
       "6394 0 days 01:04:00.497000  19.7 Km/Hr          3.02  21.1 KM  \n",
       "6395 0 days 01:04:03.202000  19.7 Km/Hr          3.02  21.1 KM  \n",
       "6396 0 days 01:04:06.290000  19.7 Km/Hr          3.02  21.1 KM  \n",
       "\n",
       "[6397 rows x 11 columns]"
      ]
     },
     "execution_count": 11,
     "metadata": {},
     "output_type": "execute_result"
    }
   ],
   "source": [
    "df"
   ]
  },
  {
   "cell_type": "markdown",
   "id": "7d1a22da",
   "metadata": {},
   "source": [
    "# The distribution of participants' paces"
   ]
  },
  {
   "cell_type": "markdown",
   "id": "c1296b90",
   "metadata": {},
   "source": [
    "* All participants (males and females)"
   ]
  },
  {
   "cell_type": "code",
   "execution_count": 21,
   "id": "9d5fb5ed",
   "metadata": {},
   "outputs": [
    {
     "name": "stderr",
     "output_type": "stream",
     "text": [
      "C:\\ProgramData\\Anaconda3\\lib\\site-packages\\seaborn\\distributions.py:2557: FutureWarning: `distplot` is a deprecated function and will be removed in a future version. Please adapt your code to use either `displot` (a figure-level function with similar flexibility) or `histplot` (an axes-level function for histograms).\n",
      "  warnings.warn(msg, FutureWarning)\n"
     ]
    },
    {
     "data": {
      "image/png": "[encoded data removed]",
      "text/plain": [
       "<Figure size 432x288 with 1 Axes>"
      ]
     },
     "metadata": {
      "needs_background": "light"
     },
     "output_type": "display_data"
    }
   ],
   "source": [
    "fig, ax = plt.subplots()\n",
    "sns.distplot(df['Pace (min/km)'], ax=ax) \n",
    "ax.set_xlim(0,15)\n",
    "ax.set_xticks(range(0,15))\n",
    "plt.show()\n"
   ]
  },
  {
   "cell_type": "markdown",
   "id": "a2e32e53",
   "metadata": {},
   "source": [
    "* Male participants pace distribution"
   ]
  },
  {
   "cell_type": "code",
   "execution_count": 26,
   "id": "d588d5b7",
   "metadata": {},
   "outputs": [
    {
     "name": "stderr",
     "output_type": "stream",
     "text": [
      "C:\\ProgramData\\Anaconda3\\lib\\site-packages\\seaborn\\distributions.py:2557: FutureWarning: `distplot` is a deprecated function and will be removed in a future version. Please adapt your code to use either `displot` (a figure-level function with similar flexibility) or `histplot` (an axes-level function for histograms).\n",
      "  warnings.warn(msg, FutureWarning)\n"
     ]
    },
    {
     "data": {
      "image/png": "[encoded data removed]",
      "text/plain": [
       "<Figure size 432x288 with 1 Axes>"
      ]
     },
     "metadata": {
      "needs_background": "light"
     },
     "output_type": "display_data"
    }
   ],
   "source": [
    "men = df[df['Gender'] == 'Male']['Pace (min/km)']\n",
    "\n",
    "fig, ax = plt.subplots()\n",
    "sns.distplot(men, ax=ax) \n",
    "ax.set_xlim(0,15)\n",
    "ax.set_xticks(range(0,15))\n",
    "plt.show()"
   ]
  },
  {
   "cell_type": "markdown",
   "id": "5a1849df",
   "metadata": {},
   "source": [
    "* Female participants pace distribution"
   ]
  },
  {
   "cell_type": "code",
   "execution_count": null,
   "id": "4821d09e",
   "metadata": {},
   "outputs": [],
   "source": []
  },
  {
   "cell_type": "code",
   "execution_count": 27,
   "id": "cddb717a",
   "metadata": {},
   "outputs": [
    {
     "name": "stderr",
     "output_type": "stream",
     "text": [
      "C:\\ProgramData\\Anaconda3\\lib\\site-packages\\seaborn\\distributions.py:2557: FutureWarning: `distplot` is a deprecated function and will be removed in a future version. Please adapt your code to use either `displot` (a figure-level function with similar flexibility) or `histplot` (an axes-level function for histograms).\n",
      "  warnings.warn(msg, FutureWarning)\n"
     ]
    },
    {
     "data": {
      "image/png": "[encoded data removed]",
      "text/plain": [
       "<Figure size 432x288 with 1 Axes>"
      ]
     },
     "metadata": {
      "needs_background": "light"
     },
     "output_type": "display_data"
    }
   ],
   "source": [
    "female = df[df['Gender'] == 'Female']['Pace (min/km)']\n",
    "\n",
    "fig, ax = plt.subplots()\n",
    "sns.distplot(female, ax=ax) \n",
    "ax.set_xlim(0,15)\n",
    "ax.set_xticks(range(0,15))\n",
    "plt.show()"
   ]
  }
 ],
 "metadata": {
  "kernelspec": {
   "display_name": "Python 3",
   "language": "python",
   "name": "python3"
  },
  "language_info": {
   "codemirror_mode": {
    "name": "ipython",
    "version": 3
   },
   "file_extension": ".py",
   "mimetype": "text/x-python",
   "name": "python",
   "nbconvert_exporter": "python",
   "pygments_lexer": "ipython3",
   "version": "3.8.8"
  }
 },
 "nbformat": 4,
 "nbformat_minor": 5
}
