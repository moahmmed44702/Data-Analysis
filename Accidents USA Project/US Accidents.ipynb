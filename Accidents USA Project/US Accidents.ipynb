{
 "cells": [
  {
   "cell_type": "markdown",
   "id": "0dcc0495",
   "metadata": {},
   "source": [
    "# Exploratory Data Analysis - US Accidents (Shadowing)"
   ]
  },
  {
   "cell_type": "markdown",
   "id": "debe4f57",
   "metadata": {},
   "source": [
    "### In this project we are going to explore a dataset of the accidents in USA from 2016 to 2020. There are almost 1.5 million record. We are going to explore the data and then clean it, afterward we are going to ask intersting questions and answer them."
   ]
  },
  {
   "cell_type": "code",
   "execution_count": 188,
   "id": "85664724",
   "metadata": {},
   "outputs": [],
   "source": [
    "import pandas as pd\n",
    "import numpy as np\n",
    "import matplotlib as plt"
   ]
  },
  {
   "cell_type": "markdown",
   "id": "8ad9adbc",
   "metadata": {},
   "source": [
    "## Imporing the file "
   ]
  },
  {
   "cell_type": "code",
   "execution_count": 189,
   "id": "ff763c1f",
   "metadata": {},
   "outputs": [],
   "source": [
    "file = pd.read_csv(r'C:\\Users\\ASUS\\Desktop\\ICS 104\\Data Science Stuff\\EDA Project\\US_Accidents_Dec20_updated.csv')"
   ]
  },
  {
   "cell_type": "markdown",
   "id": "a7894ddb",
   "metadata": {},
   "source": [
    "## Exploring the data"
   ]
  },
  {
   "cell_type": "code",
   "execution_count": 3,
   "id": "1a61c512",
   "metadata": {},
   "outputs": [
    {
     "name": "stdout",
     "output_type": "stream",
     "text": [
      "<class 'pandas.core.frame.DataFrame'>\n",
      "RangeIndex: 1516064 entries, 0 to 1516063\n",
      "Data columns (total 47 columns):\n",
      " #   Column                 Non-Null Count    Dtype  \n",
      "---  ------                 --------------    -----  \n",
      " 0   ID                     1516064 non-null  object \n",
      " 1   Severity               1516064 non-null  int64  \n",
      " 2   Start_Time             1516064 non-null  object \n",
      " 3   End_Time               1516064 non-null  object \n",
      " 4   Start_Lat              1516064 non-null  float64\n",
      " 5   Start_Lng              1516064 non-null  float64\n",
      " 6   End_Lat                1516064 non-null  float64\n",
      " 7   End_Lng                1516064 non-null  float64\n",
      " 8   Distance(mi)           1516064 non-null  float64\n",
      " 9   Description            1516064 non-null  object \n",
      " 10  Number                 469969 non-null   float64\n",
      " 11  Street                 1516064 non-null  object \n",
      " 12  Side                   1516064 non-null  object \n",
      " 13  City                   1515981 non-null  object \n",
      " 14  County                 1516064 non-null  object \n",
      " 15  State                  1516064 non-null  object \n",
      " 16  Zipcode                1515129 non-null  object \n",
      " 17  Country                1516064 non-null  object \n",
      " 18  Timezone               1513762 non-null  object \n",
      " 19  Airport_Code           1511816 non-null  object \n",
      " 20  Weather_Timestamp      1485800 non-null  object \n",
      " 21  Temperature(F)         1473031 non-null  float64\n",
      " 22  Wind_Chill(F)          1066748 non-null  float64\n",
      " 23  Humidity(%)            1470555 non-null  float64\n",
      " 24  Pressure(in)           1479790 non-null  float64\n",
      " 25  Visibility(mi)         1471853 non-null  float64\n",
      " 26  Wind_Direction         1474206 non-null  object \n",
      " 27  Wind_Speed(mph)        1387202 non-null  float64\n",
      " 28  Precipitation(in)      1005515 non-null  float64\n",
      " 29  Weather_Condition      1472057 non-null  object \n",
      " 30  Amenity                1516064 non-null  bool   \n",
      " 31  Bump                   1516064 non-null  bool   \n",
      " 32  Crossing               1516064 non-null  bool   \n",
      " 33  Give_Way               1516064 non-null  bool   \n",
      " 34  Junction               1516064 non-null  bool   \n",
      " 35  No_Exit                1516064 non-null  bool   \n",
      " 36  Railway                1516064 non-null  bool   \n",
      " 37  Roundabout             1516064 non-null  bool   \n",
      " 38  Station                1516064 non-null  bool   \n",
      " 39  Stop                   1516064 non-null  bool   \n",
      " 40  Traffic_Calming        1516064 non-null  bool   \n",
      " 41  Traffic_Signal         1516064 non-null  bool   \n",
      " 42  Turning_Loop           1516064 non-null  bool   \n",
      " 43  Sunrise_Sunset         1515981 non-null  object \n",
      " 44  Civil_Twilight         1515981 non-null  object \n",
      " 45  Nautical_Twilight      1515981 non-null  object \n",
      " 46  Astronomical_Twilight  1515981 non-null  object \n",
      "dtypes: bool(13), float64(13), int64(1), object(20)\n",
      "memory usage: 412.1+ MB\n"
     ]
    }
   ],
   "source": [
    "file.info()"
   ]
  },
  {
   "cell_type": "code",
   "execution_count": 4,
   "id": "560ffdc4",
   "metadata": {},
   "outputs": [
    {
     "data": {
      "text/html": [
       "<div>\n",
       "<style scoped>\n",
       "    .dataframe tbody tr th:only-of-type {\n",
       "        vertical-align: middle;\n",
       "    }\n",
       "\n",
       "    .dataframe tbody tr th {\n",
       "        vertical-align: top;\n",
       "    }\n",
       "\n",
       "    .dataframe thead th {\n",
       "        text-align: right;\n",
       "    }\n",
       "</style>\n",
       "<table border=\"1\" class=\"dataframe\">\n",
       "  <thead>\n",
       "    <tr style=\"text-align: right;\">\n",
       "      <th></th>\n",
       "      <th>ID</th>\n",
       "      <th>Severity</th>\n",
       "      <th>Start_Time</th>\n",
       "      <th>End_Time</th>\n",
       "      <th>Start_Lat</th>\n",
       "      <th>Start_Lng</th>\n",
       "      <th>End_Lat</th>\n",
       "      <th>End_Lng</th>\n",
       "      <th>Distance(mi)</th>\n",
       "      <th>Description</th>\n",
       "      <th>...</th>\n",
       "      <th>Roundabout</th>\n",
       "      <th>Station</th>\n",
       "      <th>Stop</th>\n",
       "      <th>Traffic_Calming</th>\n",
       "      <th>Traffic_Signal</th>\n",
       "      <th>Turning_Loop</th>\n",
       "      <th>Sunrise_Sunset</th>\n",
       "      <th>Civil_Twilight</th>\n",
       "      <th>Nautical_Twilight</th>\n",
       "      <th>Astronomical_Twilight</th>\n",
       "    </tr>\n",
       "  </thead>\n",
       "  <tbody>\n",
       "    <tr>\n",
       "      <th>0</th>\n",
       "      <td>A-2716600</td>\n",
       "      <td>3</td>\n",
       "      <td>2016-02-08 00:37:08</td>\n",
       "      <td>2016-02-08 06:37:08</td>\n",
       "      <td>40.10891</td>\n",
       "      <td>-83.09286</td>\n",
       "      <td>40.11206</td>\n",
       "      <td>-83.03187</td>\n",
       "      <td>3.230</td>\n",
       "      <td>Between Sawmill Rd/Exit 20 and OH-315/Olentang...</td>\n",
       "      <td>...</td>\n",
       "      <td>False</td>\n",
       "      <td>False</td>\n",
       "      <td>False</td>\n",
       "      <td>False</td>\n",
       "      <td>False</td>\n",
       "      <td>False</td>\n",
       "      <td>Night</td>\n",
       "      <td>Night</td>\n",
       "      <td>Night</td>\n",
       "      <td>Night</td>\n",
       "    </tr>\n",
       "    <tr>\n",
       "      <th>1</th>\n",
       "      <td>A-2716601</td>\n",
       "      <td>2</td>\n",
       "      <td>2016-02-08 05:56:20</td>\n",
       "      <td>2016-02-08 11:56:20</td>\n",
       "      <td>39.86542</td>\n",
       "      <td>-84.06280</td>\n",
       "      <td>39.86501</td>\n",
       "      <td>-84.04873</td>\n",
       "      <td>0.747</td>\n",
       "      <td>At OH-4/OH-235/Exit 41 - Accident.</td>\n",
       "      <td>...</td>\n",
       "      <td>False</td>\n",
       "      <td>False</td>\n",
       "      <td>False</td>\n",
       "      <td>False</td>\n",
       "      <td>False</td>\n",
       "      <td>False</td>\n",
       "      <td>Night</td>\n",
       "      <td>Night</td>\n",
       "      <td>Night</td>\n",
       "      <td>Night</td>\n",
       "    </tr>\n",
       "    <tr>\n",
       "      <th>2</th>\n",
       "      <td>A-2716602</td>\n",
       "      <td>2</td>\n",
       "      <td>2016-02-08 06:15:39</td>\n",
       "      <td>2016-02-08 12:15:39</td>\n",
       "      <td>39.10266</td>\n",
       "      <td>-84.52468</td>\n",
       "      <td>39.10209</td>\n",
       "      <td>-84.52396</td>\n",
       "      <td>0.055</td>\n",
       "      <td>At I-71/US-50/Exit 1 - Accident.</td>\n",
       "      <td>...</td>\n",
       "      <td>False</td>\n",
       "      <td>False</td>\n",
       "      <td>False</td>\n",
       "      <td>False</td>\n",
       "      <td>False</td>\n",
       "      <td>False</td>\n",
       "      <td>Night</td>\n",
       "      <td>Night</td>\n",
       "      <td>Night</td>\n",
       "      <td>Day</td>\n",
       "    </tr>\n",
       "    <tr>\n",
       "      <th>3</th>\n",
       "      <td>A-2716603</td>\n",
       "      <td>2</td>\n",
       "      <td>2016-02-08 06:15:39</td>\n",
       "      <td>2016-02-08 12:15:39</td>\n",
       "      <td>39.10148</td>\n",
       "      <td>-84.52341</td>\n",
       "      <td>39.09841</td>\n",
       "      <td>-84.52241</td>\n",
       "      <td>0.219</td>\n",
       "      <td>At I-71/US-50/Exit 1 - Accident.</td>\n",
       "      <td>...</td>\n",
       "      <td>False</td>\n",
       "      <td>False</td>\n",
       "      <td>False</td>\n",
       "      <td>False</td>\n",
       "      <td>False</td>\n",
       "      <td>False</td>\n",
       "      <td>Night</td>\n",
       "      <td>Night</td>\n",
       "      <td>Night</td>\n",
       "      <td>Day</td>\n",
       "    </tr>\n",
       "    <tr>\n",
       "      <th>4</th>\n",
       "      <td>A-2716604</td>\n",
       "      <td>2</td>\n",
       "      <td>2016-02-08 06:51:45</td>\n",
       "      <td>2016-02-08 12:51:45</td>\n",
       "      <td>41.06213</td>\n",
       "      <td>-81.53784</td>\n",
       "      <td>41.06217</td>\n",
       "      <td>-81.53547</td>\n",
       "      <td>0.123</td>\n",
       "      <td>At Dart Ave/Exit 21 - Accident.</td>\n",
       "      <td>...</td>\n",
       "      <td>False</td>\n",
       "      <td>False</td>\n",
       "      <td>False</td>\n",
       "      <td>False</td>\n",
       "      <td>False</td>\n",
       "      <td>False</td>\n",
       "      <td>Night</td>\n",
       "      <td>Night</td>\n",
       "      <td>Day</td>\n",
       "      <td>Day</td>\n",
       "    </tr>\n",
       "  </tbody>\n",
       "</table>\n",
       "<p>5 rows × 47 columns</p>\n",
       "</div>"
      ],
      "text/plain": [
       "          ID  Severity           Start_Time             End_Time  Start_Lat  \\\n",
       "0  A-2716600         3  2016-02-08 00:37:08  2016-02-08 06:37:08   40.10891   \n",
       "1  A-2716601         2  2016-02-08 05:56:20  2016-02-08 11:56:20   39.86542   \n",
       "2  A-2716602         2  2016-02-08 06:15:39  2016-02-08 12:15:39   39.10266   \n",
       "3  A-2716603         2  2016-02-08 06:15:39  2016-02-08 12:15:39   39.10148   \n",
       "4  A-2716604         2  2016-02-08 06:51:45  2016-02-08 12:51:45   41.06213   \n",
       "\n",
       "   Start_Lng   End_Lat   End_Lng  Distance(mi)  \\\n",
       "0  -83.09286  40.11206 -83.03187         3.230   \n",
       "1  -84.06280  39.86501 -84.04873         0.747   \n",
       "2  -84.52468  39.10209 -84.52396         0.055   \n",
       "3  -84.52341  39.09841 -84.52241         0.219   \n",
       "4  -81.53784  41.06217 -81.53547         0.123   \n",
       "\n",
       "                                         Description  ...  Roundabout Station  \\\n",
       "0  Between Sawmill Rd/Exit 20 and OH-315/Olentang...  ...       False   False   \n",
       "1                 At OH-4/OH-235/Exit 41 - Accident.  ...       False   False   \n",
       "2                   At I-71/US-50/Exit 1 - Accident.  ...       False   False   \n",
       "3                   At I-71/US-50/Exit 1 - Accident.  ...       False   False   \n",
       "4                    At Dart Ave/Exit 21 - Accident.  ...       False   False   \n",
       "\n",
       "    Stop Traffic_Calming Traffic_Signal Turning_Loop Sunrise_Sunset  \\\n",
       "0  False           False          False        False          Night   \n",
       "1  False           False          False        False          Night   \n",
       "2  False           False          False        False          Night   \n",
       "3  False           False          False        False          Night   \n",
       "4  False           False          False        False          Night   \n",
       "\n",
       "  Civil_Twilight Nautical_Twilight Astronomical_Twilight  \n",
       "0          Night             Night                 Night  \n",
       "1          Night             Night                 Night  \n",
       "2          Night             Night                   Day  \n",
       "3          Night             Night                   Day  \n",
       "4          Night               Day                   Day  \n",
       "\n",
       "[5 rows x 47 columns]"
      ]
     },
     "execution_count": 4,
     "metadata": {},
     "output_type": "execute_result"
    }
   ],
   "source": [
    "file.head()"
   ]
  },
  {
   "cell_type": "code",
   "execution_count": 5,
   "id": "124f01bb",
   "metadata": {},
   "outputs": [
    {
     "data": {
      "text/html": [
       "<div>\n",
       "<style scoped>\n",
       "    .dataframe tbody tr th:only-of-type {\n",
       "        vertical-align: middle;\n",
       "    }\n",
       "\n",
       "    .dataframe tbody tr th {\n",
       "        vertical-align: top;\n",
       "    }\n",
       "\n",
       "    .dataframe thead th {\n",
       "        text-align: right;\n",
       "    }\n",
       "</style>\n",
       "<table border=\"1\" class=\"dataframe\">\n",
       "  <thead>\n",
       "    <tr style=\"text-align: right;\">\n",
       "      <th></th>\n",
       "      <th>Severity</th>\n",
       "      <th>Start_Lat</th>\n",
       "      <th>Start_Lng</th>\n",
       "      <th>End_Lat</th>\n",
       "      <th>End_Lng</th>\n",
       "      <th>Distance(mi)</th>\n",
       "      <th>Number</th>\n",
       "      <th>Temperature(F)</th>\n",
       "      <th>Wind_Chill(F)</th>\n",
       "      <th>Humidity(%)</th>\n",
       "      <th>Pressure(in)</th>\n",
       "      <th>Visibility(mi)</th>\n",
       "      <th>Wind_Speed(mph)</th>\n",
       "      <th>Precipitation(in)</th>\n",
       "    </tr>\n",
       "  </thead>\n",
       "  <tbody>\n",
       "    <tr>\n",
       "      <th>count</th>\n",
       "      <td>1.516064e+06</td>\n",
       "      <td>1.516064e+06</td>\n",
       "      <td>1.516064e+06</td>\n",
       "      <td>1.516064e+06</td>\n",
       "      <td>1.516064e+06</td>\n",
       "      <td>1.516064e+06</td>\n",
       "      <td>4.699690e+05</td>\n",
       "      <td>1.473031e+06</td>\n",
       "      <td>1.066748e+06</td>\n",
       "      <td>1.470555e+06</td>\n",
       "      <td>1.479790e+06</td>\n",
       "      <td>1.471853e+06</td>\n",
       "      <td>1.387202e+06</td>\n",
       "      <td>1.005515e+06</td>\n",
       "    </tr>\n",
       "    <tr>\n",
       "      <th>mean</th>\n",
       "      <td>2.238630e+00</td>\n",
       "      <td>3.690056e+01</td>\n",
       "      <td>-9.859919e+01</td>\n",
       "      <td>3.690061e+01</td>\n",
       "      <td>-9.859901e+01</td>\n",
       "      <td>5.872617e-01</td>\n",
       "      <td>8.907533e+03</td>\n",
       "      <td>5.958460e+01</td>\n",
       "      <td>5.510976e+01</td>\n",
       "      <td>6.465960e+01</td>\n",
       "      <td>2.955495e+01</td>\n",
       "      <td>9.131755e+00</td>\n",
       "      <td>7.630812e+00</td>\n",
       "      <td>8.477855e-03</td>\n",
       "    </tr>\n",
       "    <tr>\n",
       "      <th>std</th>\n",
       "      <td>6.081481e-01</td>\n",
       "      <td>5.165653e+00</td>\n",
       "      <td>1.849602e+01</td>\n",
       "      <td>5.165629e+00</td>\n",
       "      <td>1.849590e+01</td>\n",
       "      <td>1.632659e+00</td>\n",
       "      <td>2.242190e+04</td>\n",
       "      <td>1.827316e+01</td>\n",
       "      <td>2.112735e+01</td>\n",
       "      <td>2.325986e+01</td>\n",
       "      <td>1.016756e+00</td>\n",
       "      <td>2.889112e+00</td>\n",
       "      <td>5.637364e+00</td>\n",
       "      <td>1.293168e-01</td>\n",
       "    </tr>\n",
       "    <tr>\n",
       "      <th>min</th>\n",
       "      <td>1.000000e+00</td>\n",
       "      <td>2.457022e+01</td>\n",
       "      <td>-1.244976e+02</td>\n",
       "      <td>2.457011e+01</td>\n",
       "      <td>-1.244978e+02</td>\n",
       "      <td>0.000000e+00</td>\n",
       "      <td>0.000000e+00</td>\n",
       "      <td>-8.900000e+01</td>\n",
       "      <td>-8.900000e+01</td>\n",
       "      <td>1.000000e+00</td>\n",
       "      <td>0.000000e+00</td>\n",
       "      <td>0.000000e+00</td>\n",
       "      <td>0.000000e+00</td>\n",
       "      <td>0.000000e+00</td>\n",
       "    </tr>\n",
       "    <tr>\n",
       "      <th>25%</th>\n",
       "      <td>2.000000e+00</td>\n",
       "      <td>3.385422e+01</td>\n",
       "      <td>-1.182076e+02</td>\n",
       "      <td>3.385420e+01</td>\n",
       "      <td>-1.182077e+02</td>\n",
       "      <td>0.000000e+00</td>\n",
       "      <td>1.212000e+03</td>\n",
       "      <td>4.700000e+01</td>\n",
       "      <td>4.080000e+01</td>\n",
       "      <td>4.800000e+01</td>\n",
       "      <td>2.944000e+01</td>\n",
       "      <td>1.000000e+01</td>\n",
       "      <td>4.600000e+00</td>\n",
       "      <td>0.000000e+00</td>\n",
       "    </tr>\n",
       "    <tr>\n",
       "      <th>50%</th>\n",
       "      <td>2.000000e+00</td>\n",
       "      <td>3.735113e+01</td>\n",
       "      <td>-9.438100e+01</td>\n",
       "      <td>3.735134e+01</td>\n",
       "      <td>-9.437987e+01</td>\n",
       "      <td>1.780000e-01</td>\n",
       "      <td>4.000000e+03</td>\n",
       "      <td>6.100000e+01</td>\n",
       "      <td>5.700000e+01</td>\n",
       "      <td>6.800000e+01</td>\n",
       "      <td>2.988000e+01</td>\n",
       "      <td>1.000000e+01</td>\n",
       "      <td>7.000000e+00</td>\n",
       "      <td>0.000000e+00</td>\n",
       "    </tr>\n",
       "    <tr>\n",
       "      <th>75%</th>\n",
       "      <td>2.000000e+00</td>\n",
       "      <td>4.072593e+01</td>\n",
       "      <td>-8.087469e+01</td>\n",
       "      <td>4.072593e+01</td>\n",
       "      <td>-8.087449e+01</td>\n",
       "      <td>5.940000e-01</td>\n",
       "      <td>1.010000e+04</td>\n",
       "      <td>7.300000e+01</td>\n",
       "      <td>7.100000e+01</td>\n",
       "      <td>8.400000e+01</td>\n",
       "      <td>3.004000e+01</td>\n",
       "      <td>1.000000e+01</td>\n",
       "      <td>1.040000e+01</td>\n",
       "      <td>0.000000e+00</td>\n",
       "    </tr>\n",
       "    <tr>\n",
       "      <th>max</th>\n",
       "      <td>4.000000e+00</td>\n",
       "      <td>4.900058e+01</td>\n",
       "      <td>-6.711317e+01</td>\n",
       "      <td>4.907500e+01</td>\n",
       "      <td>-6.710924e+01</td>\n",
       "      <td>1.551860e+02</td>\n",
       "      <td>9.999997e+06</td>\n",
       "      <td>1.706000e+02</td>\n",
       "      <td>1.130000e+02</td>\n",
       "      <td>1.000000e+02</td>\n",
       "      <td>5.804000e+01</td>\n",
       "      <td>1.400000e+02</td>\n",
       "      <td>9.840000e+02</td>\n",
       "      <td>2.400000e+01</td>\n",
       "    </tr>\n",
       "  </tbody>\n",
       "</table>\n",
       "</div>"
      ],
      "text/plain": [
       "           Severity     Start_Lat     Start_Lng       End_Lat       End_Lng  \\\n",
       "count  1.516064e+06  1.516064e+06  1.516064e+06  1.516064e+06  1.516064e+06   \n",
       "mean   2.238630e+00  3.690056e+01 -9.859919e+01  3.690061e+01 -9.859901e+01   \n",
       "std    6.081481e-01  5.165653e+00  1.849602e+01  5.165629e+00  1.849590e+01   \n",
       "min    1.000000e+00  2.457022e+01 -1.244976e+02  2.457011e+01 -1.244978e+02   \n",
       "25%    2.000000e+00  3.385422e+01 -1.182076e+02  3.385420e+01 -1.182077e+02   \n",
       "50%    2.000000e+00  3.735113e+01 -9.438100e+01  3.735134e+01 -9.437987e+01   \n",
       "75%    2.000000e+00  4.072593e+01 -8.087469e+01  4.072593e+01 -8.087449e+01   \n",
       "max    4.000000e+00  4.900058e+01 -6.711317e+01  4.907500e+01 -6.710924e+01   \n",
       "\n",
       "       Distance(mi)        Number  Temperature(F)  Wind_Chill(F)  \\\n",
       "count  1.516064e+06  4.699690e+05    1.473031e+06   1.066748e+06   \n",
       "mean   5.872617e-01  8.907533e+03    5.958460e+01   5.510976e+01   \n",
       "std    1.632659e+00  2.242190e+04    1.827316e+01   2.112735e+01   \n",
       "min    0.000000e+00  0.000000e+00   -8.900000e+01  -8.900000e+01   \n",
       "25%    0.000000e+00  1.212000e+03    4.700000e+01   4.080000e+01   \n",
       "50%    1.780000e-01  4.000000e+03    6.100000e+01   5.700000e+01   \n",
       "75%    5.940000e-01  1.010000e+04    7.300000e+01   7.100000e+01   \n",
       "max    1.551860e+02  9.999997e+06    1.706000e+02   1.130000e+02   \n",
       "\n",
       "        Humidity(%)  Pressure(in)  Visibility(mi)  Wind_Speed(mph)  \\\n",
       "count  1.470555e+06  1.479790e+06    1.471853e+06     1.387202e+06   \n",
       "mean   6.465960e+01  2.955495e+01    9.131755e+00     7.630812e+00   \n",
       "std    2.325986e+01  1.016756e+00    2.889112e+00     5.637364e+00   \n",
       "min    1.000000e+00  0.000000e+00    0.000000e+00     0.000000e+00   \n",
       "25%    4.800000e+01  2.944000e+01    1.000000e+01     4.600000e+00   \n",
       "50%    6.800000e+01  2.988000e+01    1.000000e+01     7.000000e+00   \n",
       "75%    8.400000e+01  3.004000e+01    1.000000e+01     1.040000e+01   \n",
       "max    1.000000e+02  5.804000e+01    1.400000e+02     9.840000e+02   \n",
       "\n",
       "       Precipitation(in)  \n",
       "count       1.005515e+06  \n",
       "mean        8.477855e-03  \n",
       "std         1.293168e-01  \n",
       "min         0.000000e+00  \n",
       "25%         0.000000e+00  \n",
       "50%         0.000000e+00  \n",
       "75%         0.000000e+00  \n",
       "max         2.400000e+01  "
      ]
     },
     "execution_count": 5,
     "metadata": {},
     "output_type": "execute_result"
    }
   ],
   "source": [
    "file.describe()"
   ]
  },
  {
   "cell_type": "markdown",
   "id": "4951eb26",
   "metadata": {},
   "source": [
    "## Rearrange the columns"
   ]
  },
  {
   "cell_type": "code",
   "execution_count": 6,
   "id": "34b02ed3",
   "metadata": {},
   "outputs": [],
   "source": [
    "cols = file.columns.tolist()\n",
    "\n",
    "#### they are comming as strings for some reason ### so I appended them to empty lists ####\n",
    "\n",
    "col8 = [''.join(list(cols[8]))]\n",
    "col9 = [''.join(list(cols[9]))]\n",
    "\n",
    "cols1 = cols[0:4] + col8 + col9 +cols[4:8] + cols[9:]\n",
    "\n",
    "\n",
    "\n",
    "filetest = file.reindex(columns=cols1)\n",
    "filetest.head()\n",
    "\n",
    "file = filetest"
   ]
  },
  {
   "cell_type": "markdown",
   "id": "7f5ab229",
   "metadata": {},
   "source": [
    "## Remove duplicate records"
   ]
  },
  {
   "cell_type": "code",
   "execution_count": 7,
   "id": "1b9a97ef",
   "metadata": {},
   "outputs": [
    {
     "data": {
      "text/html": [
       "<div>\n",
       "<style scoped>\n",
       "    .dataframe tbody tr th:only-of-type {\n",
       "        vertical-align: middle;\n",
       "    }\n",
       "\n",
       "    .dataframe tbody tr th {\n",
       "        vertical-align: top;\n",
       "    }\n",
       "\n",
       "    .dataframe thead th {\n",
       "        text-align: right;\n",
       "    }\n",
       "</style>\n",
       "<table border=\"1\" class=\"dataframe\">\n",
       "  <thead>\n",
       "    <tr style=\"text-align: right;\">\n",
       "      <th></th>\n",
       "      <th>ID</th>\n",
       "      <th>Severity</th>\n",
       "      <th>Start_Time</th>\n",
       "      <th>End_Time</th>\n",
       "      <th>Distance(mi)</th>\n",
       "      <th>Description</th>\n",
       "      <th>Start_Lat</th>\n",
       "      <th>Start_Lng</th>\n",
       "      <th>End_Lat</th>\n",
       "      <th>End_Lng</th>\n",
       "      <th>...</th>\n",
       "      <th>Roundabout</th>\n",
       "      <th>Station</th>\n",
       "      <th>Stop</th>\n",
       "      <th>Traffic_Calming</th>\n",
       "      <th>Traffic_Signal</th>\n",
       "      <th>Turning_Loop</th>\n",
       "      <th>Sunrise_Sunset</th>\n",
       "      <th>Civil_Twilight</th>\n",
       "      <th>Nautical_Twilight</th>\n",
       "      <th>Astronomical_Twilight</th>\n",
       "    </tr>\n",
       "  </thead>\n",
       "  <tbody>\n",
       "  </tbody>\n",
       "</table>\n",
       "<p>0 rows × 48 columns</p>\n",
       "</div>"
      ],
      "text/plain": [
       "Empty DataFrame\n",
       "Columns: [ID, Severity, Start_Time, End_Time, Distance(mi), Description, Start_Lat, Start_Lng, End_Lat, End_Lng, Description, Number, Street, Side, City, County, State, Zipcode, Country, Timezone, Airport_Code, Weather_Timestamp, Temperature(F), Wind_Chill(F), Humidity(%), Pressure(in), Visibility(mi), Wind_Direction, Wind_Speed(mph), Precipitation(in), Weather_Condition, Amenity, Bump, Crossing, Give_Way, Junction, No_Exit, Railway, Roundabout, Station, Stop, Traffic_Calming, Traffic_Signal, Turning_Loop, Sunrise_Sunset, Civil_Twilight, Nautical_Twilight, Astronomical_Twilight]\n",
       "Index: []\n",
       "\n",
       "[0 rows x 48 columns]"
      ]
     },
     "execution_count": 7,
     "metadata": {},
     "output_type": "execute_result"
    }
   ],
   "source": [
    "file[file.duplicated(['ID'], keep=False)]\n",
    "\n",
    "\n",
    "### There are no duplicate records"
   ]
  },
  {
   "cell_type": "markdown",
   "id": "b2365d24",
   "metadata": {},
   "source": [
    "## Fixing null data"
   ]
  },
  {
   "cell_type": "code",
   "execution_count": 8,
   "id": "1015eab1",
   "metadata": {},
   "outputs": [
    {
     "data": {
      "text/plain": [
       "ID                             0\n",
       "Severity                       0\n",
       "Start_Time                     0\n",
       "End_Time                       0\n",
       "Distance(mi)                   0\n",
       "Description                    0\n",
       "Start_Lat                      0\n",
       "Start_Lng                      0\n",
       "End_Lat                        0\n",
       "End_Lng                        0\n",
       "Description                    0\n",
       "Number                   1046095\n",
       "Street                         0\n",
       "Side                           0\n",
       "City                          83\n",
       "County                         0\n",
       "State                          0\n",
       "Zipcode                      935\n",
       "Country                        0\n",
       "Timezone                    2302\n",
       "Airport_Code                4248\n",
       "Weather_Timestamp          30264\n",
       "Temperature(F)             43033\n",
       "Wind_Chill(F)             449316\n",
       "Humidity(%)                45509\n",
       "Pressure(in)               36274\n",
       "Visibility(mi)             44211\n",
       "Wind_Direction             41858\n",
       "Wind_Speed(mph)           128862\n",
       "Precipitation(in)         510549\n",
       "Weather_Condition          44007\n",
       "Amenity                        0\n",
       "Bump                           0\n",
       "Crossing                       0\n",
       "Give_Way                       0\n",
       "Junction                       0\n",
       "No_Exit                        0\n",
       "Railway                        0\n",
       "Roundabout                     0\n",
       "Station                        0\n",
       "Stop                           0\n",
       "Traffic_Calming                0\n",
       "Traffic_Signal                 0\n",
       "Turning_Loop                   0\n",
       "Sunrise_Sunset                83\n",
       "Civil_Twilight                83\n",
       "Nautical_Twilight             83\n",
       "Astronomical_Twilight         83\n",
       "dtype: int64"
      ]
     },
     "execution_count": 8,
     "metadata": {},
     "output_type": "execute_result"
    }
   ],
   "source": [
    "file.isnull().sum()\n",
    "\n",
    "\n",
    "### Temp. , Wind Chill, Wind speed, precipitation (take the average of the state and subt. the null by it).\n",
    "### Sunrise and sunset, fix it by considering time"
   ]
  },
  {
   "cell_type": "code",
   "execution_count": 9,
   "id": "7e42e947",
   "metadata": {},
   "outputs": [
    {
     "data": {
      "text/plain": [
       "<AxesSubplot:>"
      ]
     },
     "execution_count": 9,
     "metadata": {},
     "output_type": "execute_result"
    },
    {
     "data": {
      "image/png": "[encoded data removed]",
      "text/plain": [
       "<Figure size 432x288 with 1 Axes>"
      ]
     },
     "metadata": {
      "needs_background": "light"
     },
     "output_type": "display_data"
    }
   ],
   "source": [
    "## lets find the percentage of the null values per column\n",
    "\n",
    "percentage_missing_values = file.isnull().sum()/len(file)\n",
    "\n",
    "percentage_only_missing_values = percentage_missing_values[percentage_missing_values != 0]\n",
    "\n",
    "percentage_only_missing_values.plot(kind='barh')"
   ]
  },
  {
   "cell_type": "code",
   "execution_count": 10,
   "id": "0a35dedd",
   "metadata": {},
   "outputs": [],
   "source": [
    "## delete the columns with 30% missing values or more\n",
    "\n",
    "del file['Wind_Chill(F)']\n",
    "del file['Number']\n",
    "del file['Precipitation(in)']\n"
   ]
  },
  {
   "cell_type": "code",
   "execution_count": 11,
   "id": "3432e13a",
   "metadata": {},
   "outputs": [
    {
     "data": {
      "text/plain": [
       "Index(['ID', 'Severity', 'Start_Time', 'End_Time', 'Distance(mi)',\n",
       "       'Description', 'Start_Lat', 'Start_Lng', 'End_Lat', 'End_Lng',\n",
       "       'Description', 'Street', 'Side', 'City', 'County', 'State', 'Zipcode',\n",
       "       'Country', 'Timezone', 'Airport_Code', 'Weather_Timestamp',\n",
       "       'Temperature(F)', 'Humidity(%)', 'Pressure(in)', 'Visibility(mi)',\n",
       "       'Wind_Direction', 'Wind_Speed(mph)', 'Weather_Condition', 'Amenity',\n",
       "       'Bump', 'Crossing', 'Give_Way', 'Junction', 'No_Exit', 'Railway',\n",
       "       'Roundabout', 'Station', 'Stop', 'Traffic_Calming', 'Traffic_Signal',\n",
       "       'Turning_Loop', 'Sunrise_Sunset', 'Civil_Twilight', 'Nautical_Twilight',\n",
       "       'Astronomical_Twilight'],\n",
       "      dtype='object')"
      ]
     },
     "execution_count": 11,
     "metadata": {},
     "output_type": "execute_result"
    }
   ],
   "source": [
    "## we will take some columns and start to dig deep a little bit.\n",
    "\n",
    "file.columns\n",
    "\n",
    "# the columns are:\n",
    "##  City, Start Time, Temp., Weather Condition, and Severity\n"
   ]
  },
  {
   "cell_type": "markdown",
   "id": "7bfa632d",
   "metadata": {},
   "source": [
    "# Data Analysis and Visualization\n",
    "\n",
    "\n",
    "### Questions to answers:\n",
    "    1- Is NYC in the data? if yes, why it is not one the highest number of accidents cities? if no, mention that! \n",
    "    2- Among the top 100 cities in number of accidents, which states do they belong to most frequently?(COULD NOT ASNWER IT HELP)\n",
    "    3- At what time do most accidents happen at?\n",
    "    4- which days of the week most accidents happen at?\n",
    "    5- which months have the most accidents?\n",
    "    6- What is the trend of the number of accidents year per year? (increasing/decreasing)\n",
    "    7- Do most accidents happen at day or at night?\n",
    "    8- which region has the highest number of accidents?\n",
    "    "
   ]
  },
  {
   "cell_type": "markdown",
   "id": "533a31bb",
   "metadata": {},
   "source": [
    "## Analysing City "
   ]
  },
  {
   "cell_type": "code",
   "execution_count": 12,
   "id": "65899ba3",
   "metadata": {},
   "outputs": [
    {
     "data": {
      "text/plain": [
       "10658"
      ]
     },
     "execution_count": 12,
     "metadata": {},
     "output_type": "execute_result"
    }
   ],
   "source": [
    "len(file.City.unique())\n",
    "\n",
    "## Quite a lot ha? if you doubt the number google it! I did and the number of cities in the US is 19,502!!!!!!"
   ]
  },
  {
   "cell_type": "code",
   "execution_count": 13,
   "id": "bc3551a1",
   "metadata": {},
   "outputs": [
    {
     "data": {
      "text/plain": [
       "City\n",
       "Los Angeles     39984\n",
       "Miami           36233\n",
       "Charlotte       22203\n",
       "Houston         20843\n",
       "Dallas          19497\n",
       "Sacramento      18431\n",
       "Orlando         16169\n",
       "Portland        14805\n",
       "San Diego       14090\n",
       "Minneapolis     12653\n",
       "Atlanta         11854\n",
       "Chicago         11507\n",
       "Saint Paul      10084\n",
       "Phoenix          9934\n",
       "Raleigh          9516\n",
       "San Jose         9362\n",
       "Richmond         8472\n",
       "Nashville        8381\n",
       "Riverside        8201\n",
       "Jacksonville     7815\n",
       "Name: Count, dtype: int64"
      ]
     },
     "execution_count": 13,
     "metadata": {},
     "output_type": "execute_result"
    }
   ],
   "source": [
    "file['Count'] = 1\n",
    "\n",
    "cities_by_accidents = file.groupby('City')['Count'].sum()\n",
    "\n",
    "cities_by_accidents.sort_values(ascending = False)[0:20]"
   ]
  },
  {
   "cell_type": "code",
   "execution_count": 14,
   "id": "c3afc3fb",
   "metadata": {},
   "outputs": [
    {
     "data": {
      "text/plain": [
       "49"
      ]
     },
     "execution_count": 14,
     "metadata": {},
     "output_type": "execute_result"
    }
   ],
   "source": [
    "'New York City' in file.City\n",
    "\n",
    "len(file.State.unique())\n",
    "\n",
    " "
   ]
  },
  {
   "cell_type": "code",
   "execution_count": 15,
   "id": "80f1a437",
   "metadata": {},
   "outputs": [
    {
     "name": "stderr",
     "output_type": "stream",
     "text": [
      "C:\\ProgramData\\Anaconda3\\lib\\site-packages\\seaborn\\distributions.py:2557: FutureWarning: `distplot` is a deprecated function and will be removed in a future version. Please adapt your code to use either `displot` (a figure-level function with similar flexibility) or `histplot` (an axes-level function for histograms).\n",
      "  warnings.warn(msg, FutureWarning)\n"
     ]
    },
    {
     "data": {
      "text/plain": [
       "[(-10.0, 5000.0)]"
      ]
     },
     "execution_count": 15,
     "metadata": {},
     "output_type": "execute_result"
    },
    {
     "data": {
      "image/png": "[encoded data removed]",
      "text/plain": [
       "<Figure size 432x288 with 1 Axes>"
      ]
     },
     "metadata": {
      "needs_background": "light"
     },
     "output_type": "display_data"
    }
   ],
   "source": [
    "## what about looking for the distribution of the number of accidents in the cities\n",
    "\n",
    "import seaborn as sns\n",
    "\n",
    "distribution = sns.distplot(cities_by_accidents)\n",
    "\n",
    "distribution.set(xlim=(-10, 5000))\n",
    "\n",
    "### it seems there are a lot of cities with ZERO accidensts"
   ]
  },
  {
   "cell_type": "code",
   "execution_count": 16,
   "id": "693f98a6",
   "metadata": {},
   "outputs": [
    {
     "name": "stdout",
     "output_type": "stream",
     "text": [
      "percentage of high accidents cities is 0.02355259453880079\n",
      "percentage of low accidents cities is 0.9764474054611992\n"
     ]
    }
   ],
   "source": [
    "high_accidents_cities = cities_by_accidents[cities_by_accidents >= 1000]\n",
    "low_accidents_cities = cities_by_accidents[cities_by_accidents < 1000]\n",
    "\n",
    "\n",
    "print('percentage of high accidents cities is', len(high_accidents_cities)/len(cities_by_accidents))\n",
    "print('percentage of low accidents cities is',len(low_accidents_cities)/len(cities_by_accidents))\n"
   ]
  },
  {
   "cell_type": "code",
   "execution_count": 17,
   "id": "94512ffd",
   "metadata": {},
   "outputs": [
    {
     "name": "stderr",
     "output_type": "stream",
     "text": [
      "C:\\ProgramData\\Anaconda3\\lib\\site-packages\\seaborn\\distributions.py:2557: FutureWarning: `distplot` is a deprecated function and will be removed in a future version. Please adapt your code to use either `displot` (a figure-level function with similar flexibility) or `histplot` (an axes-level function for histograms).\n",
      "  warnings.warn(msg, FutureWarning)\n"
     ]
    },
    {
     "data": {
      "text/plain": [
       "<AxesSubplot:xlabel='Count', ylabel='Density'>"
      ]
     },
     "execution_count": 17,
     "metadata": {},
     "output_type": "execute_result"
    },
    {
     "data": {
      "image/png": "[encoded data removed]",
      "text/plain": [
       "<Figure size 432x288 with 1 Axes>"
      ]
     },
     "metadata": {
      "needs_background": "light"
     },
     "output_type": "display_data"
    }
   ],
   "source": [
    "sns.distplot(high_accidents_cities)"
   ]
  },
  {
   "cell_type": "code",
   "execution_count": 18,
   "id": "6d8687a1",
   "metadata": {},
   "outputs": [
    {
     "name": "stderr",
     "output_type": "stream",
     "text": [
      "C:\\ProgramData\\Anaconda3\\lib\\site-packages\\seaborn\\distributions.py:2557: FutureWarning: `distplot` is a deprecated function and will be removed in a future version. Please adapt your code to use either `displot` (a figure-level function with similar flexibility) or `histplot` (an axes-level function for histograms).\n",
      "  warnings.warn(msg, FutureWarning)\n"
     ]
    },
    {
     "data": {
      "text/plain": [
       "<AxesSubplot:xlabel='Count', ylabel='Density'>"
      ]
     },
     "execution_count": 18,
     "metadata": {},
     "output_type": "execute_result"
    },
    {
     "data": {
      "image/png": "[encoded data removed]",
      "text/plain": [
       "<Figure size 432x288 with 1 Axes>"
      ]
     },
     "metadata": {
      "needs_background": "light"
     },
     "output_type": "display_data"
    }
   ],
   "source": [
    "sns.distplot(low_accidents_cities)"
   ]
  },
  {
   "cell_type": "code",
   "execution_count": 19,
   "id": "8ec05d88",
   "metadata": {},
   "outputs": [
    {
     "name": "stdout",
     "output_type": "stream",
     "text": [
      "number of cities with less than 100 accidents 8682\n"
     ]
    }
   ],
   "source": [
    "len(cities_by_accidents)\n",
    "print('number of cities with less than 100 accidents',len(cities_by_accidents[cities_by_accidents < 100]))\n",
    "\n",
    "## which is weird, since it is a record of 4 years!"
   ]
  },
  {
   "cell_type": "markdown",
   "id": "f0626bdc",
   "metadata": {},
   "source": [
    "## Analysing Start Time "
   ]
  },
  {
   "cell_type": "code",
   "execution_count": 53,
   "id": "b02d4eee",
   "metadata": {},
   "outputs": [
    {
     "data": {
      "text/html": [
       "<div>\n",
       "<style scoped>\n",
       "    .dataframe tbody tr th:only-of-type {\n",
       "        vertical-align: middle;\n",
       "    }\n",
       "\n",
       "    .dataframe tbody tr th {\n",
       "        vertical-align: top;\n",
       "    }\n",
       "\n",
       "    .dataframe thead th {\n",
       "        text-align: right;\n",
       "    }\n",
       "</style>\n",
       "<table border=\"1\" class=\"dataframe\">\n",
       "  <thead>\n",
       "    <tr style=\"text-align: right;\">\n",
       "      <th></th>\n",
       "      <th>ID</th>\n",
       "      <th>Severity</th>\n",
       "      <th>Start_Time</th>\n",
       "      <th>End_Time</th>\n",
       "      <th>Distance(mi)</th>\n",
       "      <th>Description</th>\n",
       "      <th>Start_Lat</th>\n",
       "      <th>Start_Lng</th>\n",
       "      <th>End_Lat</th>\n",
       "      <th>End_Lng</th>\n",
       "      <th>...</th>\n",
       "      <th>Traffic_Signal</th>\n",
       "      <th>Turning_Loop</th>\n",
       "      <th>Sunrise_Sunset</th>\n",
       "      <th>Civil_Twilight</th>\n",
       "      <th>Nautical_Twilight</th>\n",
       "      <th>Astronomical_Twilight</th>\n",
       "      <th>Count</th>\n",
       "      <th>Start_Time_Hour</th>\n",
       "      <th>Start_Time_DayMonth</th>\n",
       "      <th>Start_Time_DayWeek</th>\n",
       "    </tr>\n",
       "  </thead>\n",
       "  <tbody>\n",
       "    <tr>\n",
       "      <th>36173</th>\n",
       "      <td>A-2752773</td>\n",
       "      <td>4</td>\n",
       "      <td>2016-12-11 16:33:08</td>\n",
       "      <td>2016-12-11 22:33:08</td>\n",
       "      <td>3.271</td>\n",
       "      <td>Closed between CT-120A/King St/Exit 27 and Rou...</td>\n",
       "      <td>41.03674</td>\n",
       "      <td>-73.67549</td>\n",
       "      <td>41.083450</td>\n",
       "      <td>-73.665300</td>\n",
       "      <td>...</td>\n",
       "      <td>False</td>\n",
       "      <td>False</td>\n",
       "      <td>NaN</td>\n",
       "      <td>NaN</td>\n",
       "      <td>NaN</td>\n",
       "      <td>NaN</td>\n",
       "      <td>1</td>\n",
       "      <td>16</td>\n",
       "      <td>11</td>\n",
       "      <td>6</td>\n",
       "    </tr>\n",
       "    <tr>\n",
       "      <th>45085</th>\n",
       "      <td>A-2761685</td>\n",
       "      <td>4</td>\n",
       "      <td>2017-01-10 04:51:19</td>\n",
       "      <td>2017-01-10 10:51:19</td>\n",
       "      <td>0.945</td>\n",
       "      <td>Closed between State Line Rd and Kings Church ...</td>\n",
       "      <td>40.84309</td>\n",
       "      <td>-84.80236</td>\n",
       "      <td>40.844250</td>\n",
       "      <td>-84.784350</td>\n",
       "      <td>...</td>\n",
       "      <td>False</td>\n",
       "      <td>False</td>\n",
       "      <td>NaN</td>\n",
       "      <td>NaN</td>\n",
       "      <td>NaN</td>\n",
       "      <td>NaN</td>\n",
       "      <td>1</td>\n",
       "      <td>4</td>\n",
       "      <td>10</td>\n",
       "      <td>1</td>\n",
       "    </tr>\n",
       "    <tr>\n",
       "      <th>45093</th>\n",
       "      <td>A-2761693</td>\n",
       "      <td>4</td>\n",
       "      <td>2017-01-10 06:13:46</td>\n",
       "      <td>2017-01-10 12:13:46</td>\n",
       "      <td>0.945</td>\n",
       "      <td>Closed between State Line Rd and Kings Church ...</td>\n",
       "      <td>40.84309</td>\n",
       "      <td>-84.80236</td>\n",
       "      <td>40.844250</td>\n",
       "      <td>-84.784350</td>\n",
       "      <td>...</td>\n",
       "      <td>False</td>\n",
       "      <td>False</td>\n",
       "      <td>NaN</td>\n",
       "      <td>NaN</td>\n",
       "      <td>NaN</td>\n",
       "      <td>NaN</td>\n",
       "      <td>1</td>\n",
       "      <td>6</td>\n",
       "      <td>10</td>\n",
       "      <td>1</td>\n",
       "    </tr>\n",
       "    <tr>\n",
       "      <th>45243</th>\n",
       "      <td>A-2761843</td>\n",
       "      <td>4</td>\n",
       "      <td>2017-01-10 09:42:10</td>\n",
       "      <td>2017-01-10 15:42:10</td>\n",
       "      <td>2.025</td>\n",
       "      <td>Closed between State Line Rd and Decatur - Roa...</td>\n",
       "      <td>40.84309</td>\n",
       "      <td>-84.80236</td>\n",
       "      <td>40.841207</td>\n",
       "      <td>-84.841024</td>\n",
       "      <td>...</td>\n",
       "      <td>False</td>\n",
       "      <td>False</td>\n",
       "      <td>NaN</td>\n",
       "      <td>NaN</td>\n",
       "      <td>NaN</td>\n",
       "      <td>NaN</td>\n",
       "      <td>1</td>\n",
       "      <td>9</td>\n",
       "      <td>10</td>\n",
       "      <td>1</td>\n",
       "    </tr>\n",
       "    <tr>\n",
       "      <th>58509</th>\n",
       "      <td>A-2775109</td>\n",
       "      <td>4</td>\n",
       "      <td>2016-11-17 06:51:47</td>\n",
       "      <td>2016-11-17 12:51:47</td>\n",
       "      <td>0.069</td>\n",
       "      <td>Closed at CT-120A/King St/Exit 27 - Road close...</td>\n",
       "      <td>41.03674</td>\n",
       "      <td>-73.67549</td>\n",
       "      <td>41.037639</td>\n",
       "      <td>-73.674930</td>\n",
       "      <td>...</td>\n",
       "      <td>False</td>\n",
       "      <td>False</td>\n",
       "      <td>NaN</td>\n",
       "      <td>NaN</td>\n",
       "      <td>NaN</td>\n",
       "      <td>NaN</td>\n",
       "      <td>1</td>\n",
       "      <td>6</td>\n",
       "      <td>17</td>\n",
       "      <td>3</td>\n",
       "    </tr>\n",
       "    <tr>\n",
       "      <th>...</th>\n",
       "      <td>...</td>\n",
       "      <td>...</td>\n",
       "      <td>...</td>\n",
       "      <td>...</td>\n",
       "      <td>...</td>\n",
       "      <td>...</td>\n",
       "      <td>...</td>\n",
       "      <td>...</td>\n",
       "      <td>...</td>\n",
       "      <td>...</td>\n",
       "      <td>...</td>\n",
       "      <td>...</td>\n",
       "      <td>...</td>\n",
       "      <td>...</td>\n",
       "      <td>...</td>\n",
       "      <td>...</td>\n",
       "      <td>...</td>\n",
       "      <td>...</td>\n",
       "      <td>...</td>\n",
       "      <td>...</td>\n",
       "      <td>...</td>\n",
       "    </tr>\n",
       "    <tr>\n",
       "      <th>1385953</th>\n",
       "      <td>A-4109296</td>\n",
       "      <td>2</td>\n",
       "      <td>2017-12-13 18:38:56</td>\n",
       "      <td>2017-12-14 00:38:56</td>\n",
       "      <td>0.425</td>\n",
       "      <td>At Sheridan St - Accident.</td>\n",
       "      <td>38.96571</td>\n",
       "      <td>-77.00246</td>\n",
       "      <td>38.971000</td>\n",
       "      <td>-76.998430</td>\n",
       "      <td>...</td>\n",
       "      <td>True</td>\n",
       "      <td>False</td>\n",
       "      <td>NaN</td>\n",
       "      <td>NaN</td>\n",
       "      <td>NaN</td>\n",
       "      <td>NaN</td>\n",
       "      <td>1</td>\n",
       "      <td>18</td>\n",
       "      <td>13</td>\n",
       "      <td>2</td>\n",
       "    </tr>\n",
       "    <tr>\n",
       "      <th>1394637</th>\n",
       "      <td>A-4117980</td>\n",
       "      <td>2</td>\n",
       "      <td>2017-11-06 09:08:42</td>\n",
       "      <td>2017-11-06 15:08:42</td>\n",
       "      <td>3.271</td>\n",
       "      <td>Between CT-120A/King St/Exit 27 and Round Hill...</td>\n",
       "      <td>41.03674</td>\n",
       "      <td>-73.67549</td>\n",
       "      <td>41.083450</td>\n",
       "      <td>-73.665300</td>\n",
       "      <td>...</td>\n",
       "      <td>False</td>\n",
       "      <td>False</td>\n",
       "      <td>NaN</td>\n",
       "      <td>NaN</td>\n",
       "      <td>NaN</td>\n",
       "      <td>NaN</td>\n",
       "      <td>1</td>\n",
       "      <td>9</td>\n",
       "      <td>6</td>\n",
       "      <td>0</td>\n",
       "    </tr>\n",
       "    <tr>\n",
       "      <th>1402521</th>\n",
       "      <td>A-4125864</td>\n",
       "      <td>4</td>\n",
       "      <td>2017-11-24 04:48:21</td>\n",
       "      <td>2017-11-24 10:48:21</td>\n",
       "      <td>1.873</td>\n",
       "      <td>Closed between State Highway 5 and 170th Ave -...</td>\n",
       "      <td>40.58687</td>\n",
       "      <td>-92.98509</td>\n",
       "      <td>40.608917</td>\n",
       "      <td>-92.964332</td>\n",
       "      <td>...</td>\n",
       "      <td>False</td>\n",
       "      <td>False</td>\n",
       "      <td>NaN</td>\n",
       "      <td>NaN</td>\n",
       "      <td>NaN</td>\n",
       "      <td>NaN</td>\n",
       "      <td>1</td>\n",
       "      <td>4</td>\n",
       "      <td>24</td>\n",
       "      <td>4</td>\n",
       "    </tr>\n",
       "    <tr>\n",
       "      <th>1407739</th>\n",
       "      <td>A-4131082</td>\n",
       "      <td>2</td>\n",
       "      <td>2017-10-09 15:46:08</td>\n",
       "      <td>2017-10-09 21:46:08</td>\n",
       "      <td>3.271</td>\n",
       "      <td>Between CT-120A/King St/Exit 27 and Round Hill...</td>\n",
       "      <td>41.03674</td>\n",
       "      <td>-73.67549</td>\n",
       "      <td>41.083450</td>\n",
       "      <td>-73.665300</td>\n",
       "      <td>...</td>\n",
       "      <td>False</td>\n",
       "      <td>False</td>\n",
       "      <td>NaN</td>\n",
       "      <td>NaN</td>\n",
       "      <td>NaN</td>\n",
       "      <td>NaN</td>\n",
       "      <td>1</td>\n",
       "      <td>15</td>\n",
       "      <td>9</td>\n",
       "      <td>0</td>\n",
       "    </tr>\n",
       "    <tr>\n",
       "      <th>1417945</th>\n",
       "      <td>A-4141288</td>\n",
       "      <td>4</td>\n",
       "      <td>2017-09-06 06:51:55</td>\n",
       "      <td>2017-09-06 12:51:55</td>\n",
       "      <td>3.308</td>\n",
       "      <td>Closed between IN-101/Fahlsing Rd and OH-49/Ex...</td>\n",
       "      <td>41.15342</td>\n",
       "      <td>-84.80349</td>\n",
       "      <td>41.168190</td>\n",
       "      <td>-84.742990</td>\n",
       "      <td>...</td>\n",
       "      <td>False</td>\n",
       "      <td>False</td>\n",
       "      <td>NaN</td>\n",
       "      <td>NaN</td>\n",
       "      <td>NaN</td>\n",
       "      <td>NaN</td>\n",
       "      <td>1</td>\n",
       "      <td>6</td>\n",
       "      <td>6</td>\n",
       "      <td>2</td>\n",
       "    </tr>\n",
       "  </tbody>\n",
       "</table>\n",
       "<p>83 rows × 49 columns</p>\n",
       "</div>"
      ],
      "text/plain": [
       "                ID  Severity          Start_Time             End_Time  \\\n",
       "36173    A-2752773         4 2016-12-11 16:33:08  2016-12-11 22:33:08   \n",
       "45085    A-2761685         4 2017-01-10 04:51:19  2017-01-10 10:51:19   \n",
       "45093    A-2761693         4 2017-01-10 06:13:46  2017-01-10 12:13:46   \n",
       "45243    A-2761843         4 2017-01-10 09:42:10  2017-01-10 15:42:10   \n",
       "58509    A-2775109         4 2016-11-17 06:51:47  2016-11-17 12:51:47   \n",
       "...            ...       ...                 ...                  ...   \n",
       "1385953  A-4109296         2 2017-12-13 18:38:56  2017-12-14 00:38:56   \n",
       "1394637  A-4117980         2 2017-11-06 09:08:42  2017-11-06 15:08:42   \n",
       "1402521  A-4125864         4 2017-11-24 04:48:21  2017-11-24 10:48:21   \n",
       "1407739  A-4131082         2 2017-10-09 15:46:08  2017-10-09 21:46:08   \n",
       "1417945  A-4141288         4 2017-09-06 06:51:55  2017-09-06 12:51:55   \n",
       "\n",
       "         Distance(mi)                                        Description  \\\n",
       "36173           3.271  Closed between CT-120A/King St/Exit 27 and Rou...   \n",
       "45085           0.945  Closed between State Line Rd and Kings Church ...   \n",
       "45093           0.945  Closed between State Line Rd and Kings Church ...   \n",
       "45243           2.025  Closed between State Line Rd and Decatur - Roa...   \n",
       "58509           0.069  Closed at CT-120A/King St/Exit 27 - Road close...   \n",
       "...               ...                                                ...   \n",
       "1385953         0.425                         At Sheridan St - Accident.   \n",
       "1394637         3.271  Between CT-120A/King St/Exit 27 and Round Hill...   \n",
       "1402521         1.873  Closed between State Highway 5 and 170th Ave -...   \n",
       "1407739         3.271  Between CT-120A/King St/Exit 27 and Round Hill...   \n",
       "1417945         3.308  Closed between IN-101/Fahlsing Rd and OH-49/Ex...   \n",
       "\n",
       "         Start_Lat  Start_Lng    End_Lat    End_Lng  ... Traffic_Signal  \\\n",
       "36173     41.03674  -73.67549  41.083450 -73.665300  ...          False   \n",
       "45085     40.84309  -84.80236  40.844250 -84.784350  ...          False   \n",
       "45093     40.84309  -84.80236  40.844250 -84.784350  ...          False   \n",
       "45243     40.84309  -84.80236  40.841207 -84.841024  ...          False   \n",
       "58509     41.03674  -73.67549  41.037639 -73.674930  ...          False   \n",
       "...            ...        ...        ...        ...  ...            ...   \n",
       "1385953   38.96571  -77.00246  38.971000 -76.998430  ...           True   \n",
       "1394637   41.03674  -73.67549  41.083450 -73.665300  ...          False   \n",
       "1402521   40.58687  -92.98509  40.608917 -92.964332  ...          False   \n",
       "1407739   41.03674  -73.67549  41.083450 -73.665300  ...          False   \n",
       "1417945   41.15342  -84.80349  41.168190 -84.742990  ...          False   \n",
       "\n",
       "        Turning_Loop Sunrise_Sunset Civil_Twilight Nautical_Twilight  \\\n",
       "36173          False            NaN            NaN               NaN   \n",
       "45085          False            NaN            NaN               NaN   \n",
       "45093          False            NaN            NaN               NaN   \n",
       "45243          False            NaN            NaN               NaN   \n",
       "58509          False            NaN            NaN               NaN   \n",
       "...              ...            ...            ...               ...   \n",
       "1385953        False            NaN            NaN               NaN   \n",
       "1394637        False            NaN            NaN               NaN   \n",
       "1402521        False            NaN            NaN               NaN   \n",
       "1407739        False            NaN            NaN               NaN   \n",
       "1417945        False            NaN            NaN               NaN   \n",
       "\n",
       "        Astronomical_Twilight Count Start_Time_Hour Start_Time_DayMonth  \\\n",
       "36173                     NaN     1              16                  11   \n",
       "45085                     NaN     1               4                  10   \n",
       "45093                     NaN     1               6                  10   \n",
       "45243                     NaN     1               9                  10   \n",
       "58509                     NaN     1               6                  17   \n",
       "...                       ...   ...             ...                 ...   \n",
       "1385953                   NaN     1              18                  13   \n",
       "1394637                   NaN     1               9                   6   \n",
       "1402521                   NaN     1               4                  24   \n",
       "1407739                   NaN     1              15                   9   \n",
       "1417945                   NaN     1               6                   6   \n",
       "\n",
       "        Start_Time_DayWeek  \n",
       "36173                    6  \n",
       "45085                    1  \n",
       "45093                    1  \n",
       "45243                    1  \n",
       "58509                    3  \n",
       "...                    ...  \n",
       "1385953                  2  \n",
       "1394637                  0  \n",
       "1402521                  4  \n",
       "1407739                  0  \n",
       "1417945                  2  \n",
       "\n",
       "[83 rows x 49 columns]"
      ]
     },
     "execution_count": 53,
     "metadata": {},
     "output_type": "execute_result"
    }
   ],
   "source": [
    "file.Sunrise_Sunset.unique()\n",
    "\n",
    "file[(file['Sunrise_Sunset'] != 'Night') & ( file['Sunrise_Sunset'] != 'Day')]\n",
    "\n",
    "## there are 83 null records"
   ]
  },
  {
   "cell_type": "code",
   "execution_count": 22,
   "id": "c4611135",
   "metadata": {},
   "outputs": [
    {
     "name": "stdout",
     "output_type": "stream",
     "text": [
      "<class 'pandas.core.frame.DataFrame'>\n",
      "RangeIndex: 1516064 entries, 0 to 1516063\n",
      "Data columns (total 46 columns):\n",
      " #   Column                 Non-Null Count    Dtype  \n",
      "---  ------                 --------------    -----  \n",
      " 0   ID                     1516064 non-null  object \n",
      " 1   Severity               1516064 non-null  int64  \n",
      " 2   Start_Time             1516064 non-null  object \n",
      " 3   End_Time               1516064 non-null  object \n",
      " 4   Distance(mi)           1516064 non-null  float64\n",
      " 5   Description            1516064 non-null  object \n",
      " 6   Start_Lat              1516064 non-null  float64\n",
      " 7   Start_Lng              1516064 non-null  float64\n",
      " 8   End_Lat                1516064 non-null  float64\n",
      " 9   End_Lng                1516064 non-null  float64\n",
      " 10  Description            1516064 non-null  object \n",
      " 11  Street                 1516064 non-null  object \n",
      " 12  Side                   1516064 non-null  object \n",
      " 13  City                   1515981 non-null  object \n",
      " 14  County                 1516064 non-null  object \n",
      " 15  State                  1516064 non-null  object \n",
      " 16  Zipcode                1515129 non-null  object \n",
      " 17  Country                1516064 non-null  object \n",
      " 18  Timezone               1513762 non-null  object \n",
      " 19  Airport_Code           1511816 non-null  object \n",
      " 20  Weather_Timestamp      1485800 non-null  object \n",
      " 21  Temperature(F)         1473031 non-null  float64\n",
      " 22  Humidity(%)            1470555 non-null  float64\n",
      " 23  Pressure(in)           1479790 non-null  float64\n",
      " 24  Visibility(mi)         1471853 non-null  float64\n",
      " 25  Wind_Direction         1474206 non-null  object \n",
      " 26  Wind_Speed(mph)        1387202 non-null  float64\n",
      " 27  Weather_Condition      1472057 non-null  object \n",
      " 28  Amenity                1516064 non-null  bool   \n",
      " 29  Bump                   1516064 non-null  bool   \n",
      " 30  Crossing               1516064 non-null  bool   \n",
      " 31  Give_Way               1516064 non-null  bool   \n",
      " 32  Junction               1516064 non-null  bool   \n",
      " 33  No_Exit                1516064 non-null  bool   \n",
      " 34  Railway                1516064 non-null  bool   \n",
      " 35  Roundabout             1516064 non-null  bool   \n",
      " 36  Station                1516064 non-null  bool   \n",
      " 37  Stop                   1516064 non-null  bool   \n",
      " 38  Traffic_Calming        1516064 non-null  bool   \n",
      " 39  Traffic_Signal         1516064 non-null  bool   \n",
      " 40  Turning_Loop           1516064 non-null  bool   \n",
      " 41  Sunrise_Sunset         1515981 non-null  object \n",
      " 42  Civil_Twilight         1515981 non-null  object \n",
      " 43  Nautical_Twilight      1515981 non-null  object \n",
      " 44  Astronomical_Twilight  1515981 non-null  object \n",
      " 45  Count                  1516064 non-null  int64  \n",
      "dtypes: bool(13), float64(10), int64(2), object(21)\n",
      "memory usage: 400.5+ MB\n"
     ]
    }
   ],
   "source": [
    "file.info()\n",
    "\n",
    "# we can see that the Start Time column has object type we should convert it into data type"
   ]
  },
  {
   "cell_type": "code",
   "execution_count": 23,
   "id": "b820dfb6",
   "metadata": {},
   "outputs": [
    {
     "name": "stdout",
     "output_type": "stream",
     "text": [
      "<class 'pandas.core.frame.DataFrame'>\n",
      "RangeIndex: 1516064 entries, 0 to 1516063\n",
      "Data columns (total 46 columns):\n",
      " #   Column                 Non-Null Count    Dtype         \n",
      "---  ------                 --------------    -----         \n",
      " 0   ID                     1516064 non-null  object        \n",
      " 1   Severity               1516064 non-null  int64         \n",
      " 2   Start_Time             1516064 non-null  datetime64[ns]\n",
      " 3   End_Time               1516064 non-null  object        \n",
      " 4   Distance(mi)           1516064 non-null  float64       \n",
      " 5   Description            1516064 non-null  object        \n",
      " 6   Start_Lat              1516064 non-null  float64       \n",
      " 7   Start_Lng              1516064 non-null  float64       \n",
      " 8   End_Lat                1516064 non-null  float64       \n",
      " 9   End_Lng                1516064 non-null  float64       \n",
      " 10  Description            1516064 non-null  object        \n",
      " 11  Street                 1516064 non-null  object        \n",
      " 12  Side                   1516064 non-null  object        \n",
      " 13  City                   1515981 non-null  object        \n",
      " 14  County                 1516064 non-null  object        \n",
      " 15  State                  1516064 non-null  object        \n",
      " 16  Zipcode                1515129 non-null  object        \n",
      " 17  Country                1516064 non-null  object        \n",
      " 18  Timezone               1513762 non-null  object        \n",
      " 19  Airport_Code           1511816 non-null  object        \n",
      " 20  Weather_Timestamp      1485800 non-null  object        \n",
      " 21  Temperature(F)         1473031 non-null  float64       \n",
      " 22  Humidity(%)            1470555 non-null  float64       \n",
      " 23  Pressure(in)           1479790 non-null  float64       \n",
      " 24  Visibility(mi)         1471853 non-null  float64       \n",
      " 25  Wind_Direction         1474206 non-null  object        \n",
      " 26  Wind_Speed(mph)        1387202 non-null  float64       \n",
      " 27  Weather_Condition      1472057 non-null  object        \n",
      " 28  Amenity                1516064 non-null  bool          \n",
      " 29  Bump                   1516064 non-null  bool          \n",
      " 30  Crossing               1516064 non-null  bool          \n",
      " 31  Give_Way               1516064 non-null  bool          \n",
      " 32  Junction               1516064 non-null  bool          \n",
      " 33  No_Exit                1516064 non-null  bool          \n",
      " 34  Railway                1516064 non-null  bool          \n",
      " 35  Roundabout             1516064 non-null  bool          \n",
      " 36  Station                1516064 non-null  bool          \n",
      " 37  Stop                   1516064 non-null  bool          \n",
      " 38  Traffic_Calming        1516064 non-null  bool          \n",
      " 39  Traffic_Signal         1516064 non-null  bool          \n",
      " 40  Turning_Loop           1516064 non-null  bool          \n",
      " 41  Sunrise_Sunset         1515981 non-null  object        \n",
      " 42  Civil_Twilight         1515981 non-null  object        \n",
      " 43  Nautical_Twilight      1515981 non-null  object        \n",
      " 44  Astronomical_Twilight  1515981 non-null  object        \n",
      " 45  Count                  1516064 non-null  int64         \n",
      "dtypes: bool(13), datetime64[ns](1), float64(10), int64(2), object(20)\n",
      "memory usage: 400.5+ MB\n"
     ]
    }
   ],
   "source": [
    "file['Start_Time'] = pd.to_datetime(file['Start_Time'])\n",
    "\n",
    "file.info()"
   ]
  },
  {
   "cell_type": "code",
   "execution_count": 24,
   "id": "e9c726d6",
   "metadata": {},
   "outputs": [
    {
     "data": {
      "text/html": [
       "<div>\n",
       "<style scoped>\n",
       "    .dataframe tbody tr th:only-of-type {\n",
       "        vertical-align: middle;\n",
       "    }\n",
       "\n",
       "    .dataframe tbody tr th {\n",
       "        vertical-align: top;\n",
       "    }\n",
       "\n",
       "    .dataframe thead th {\n",
       "        text-align: right;\n",
       "    }\n",
       "</style>\n",
       "<table border=\"1\" class=\"dataframe\">\n",
       "  <thead>\n",
       "    <tr style=\"text-align: right;\">\n",
       "      <th></th>\n",
       "      <th>ID</th>\n",
       "      <th>Severity</th>\n",
       "      <th>Start_Time</th>\n",
       "      <th>End_Time</th>\n",
       "      <th>Distance(mi)</th>\n",
       "      <th>Description</th>\n",
       "      <th>Start_Lat</th>\n",
       "      <th>Start_Lng</th>\n",
       "      <th>End_Lat</th>\n",
       "      <th>End_Lng</th>\n",
       "      <th>...</th>\n",
       "      <th>Stop</th>\n",
       "      <th>Traffic_Calming</th>\n",
       "      <th>Traffic_Signal</th>\n",
       "      <th>Turning_Loop</th>\n",
       "      <th>Sunrise_Sunset</th>\n",
       "      <th>Civil_Twilight</th>\n",
       "      <th>Nautical_Twilight</th>\n",
       "      <th>Astronomical_Twilight</th>\n",
       "      <th>Count</th>\n",
       "      <th>Start_Time_Hour</th>\n",
       "    </tr>\n",
       "  </thead>\n",
       "  <tbody>\n",
       "    <tr>\n",
       "      <th>0</th>\n",
       "      <td>A-2716600</td>\n",
       "      <td>3</td>\n",
       "      <td>2016-02-08 00:37:08</td>\n",
       "      <td>2016-02-08 06:37:08</td>\n",
       "      <td>3.230</td>\n",
       "      <td>Between Sawmill Rd/Exit 20 and OH-315/Olentang...</td>\n",
       "      <td>40.10891</td>\n",
       "      <td>-83.09286</td>\n",
       "      <td>40.11206</td>\n",
       "      <td>-83.03187</td>\n",
       "      <td>...</td>\n",
       "      <td>False</td>\n",
       "      <td>False</td>\n",
       "      <td>False</td>\n",
       "      <td>False</td>\n",
       "      <td>Night</td>\n",
       "      <td>Night</td>\n",
       "      <td>Night</td>\n",
       "      <td>Night</td>\n",
       "      <td>1</td>\n",
       "      <td>0</td>\n",
       "    </tr>\n",
       "    <tr>\n",
       "      <th>1</th>\n",
       "      <td>A-2716601</td>\n",
       "      <td>2</td>\n",
       "      <td>2016-02-08 05:56:20</td>\n",
       "      <td>2016-02-08 11:56:20</td>\n",
       "      <td>0.747</td>\n",
       "      <td>At OH-4/OH-235/Exit 41 - Accident.</td>\n",
       "      <td>39.86542</td>\n",
       "      <td>-84.06280</td>\n",
       "      <td>39.86501</td>\n",
       "      <td>-84.04873</td>\n",
       "      <td>...</td>\n",
       "      <td>False</td>\n",
       "      <td>False</td>\n",
       "      <td>False</td>\n",
       "      <td>False</td>\n",
       "      <td>Night</td>\n",
       "      <td>Night</td>\n",
       "      <td>Night</td>\n",
       "      <td>Night</td>\n",
       "      <td>1</td>\n",
       "      <td>5</td>\n",
       "    </tr>\n",
       "    <tr>\n",
       "      <th>2</th>\n",
       "      <td>A-2716602</td>\n",
       "      <td>2</td>\n",
       "      <td>2016-02-08 06:15:39</td>\n",
       "      <td>2016-02-08 12:15:39</td>\n",
       "      <td>0.055</td>\n",
       "      <td>At I-71/US-50/Exit 1 - Accident.</td>\n",
       "      <td>39.10266</td>\n",
       "      <td>-84.52468</td>\n",
       "      <td>39.10209</td>\n",
       "      <td>-84.52396</td>\n",
       "      <td>...</td>\n",
       "      <td>False</td>\n",
       "      <td>False</td>\n",
       "      <td>False</td>\n",
       "      <td>False</td>\n",
       "      <td>Night</td>\n",
       "      <td>Night</td>\n",
       "      <td>Night</td>\n",
       "      <td>Day</td>\n",
       "      <td>1</td>\n",
       "      <td>6</td>\n",
       "    </tr>\n",
       "    <tr>\n",
       "      <th>3</th>\n",
       "      <td>A-2716603</td>\n",
       "      <td>2</td>\n",
       "      <td>2016-02-08 06:15:39</td>\n",
       "      <td>2016-02-08 12:15:39</td>\n",
       "      <td>0.219</td>\n",
       "      <td>At I-71/US-50/Exit 1 - Accident.</td>\n",
       "      <td>39.10148</td>\n",
       "      <td>-84.52341</td>\n",
       "      <td>39.09841</td>\n",
       "      <td>-84.52241</td>\n",
       "      <td>...</td>\n",
       "      <td>False</td>\n",
       "      <td>False</td>\n",
       "      <td>False</td>\n",
       "      <td>False</td>\n",
       "      <td>Night</td>\n",
       "      <td>Night</td>\n",
       "      <td>Night</td>\n",
       "      <td>Day</td>\n",
       "      <td>1</td>\n",
       "      <td>6</td>\n",
       "    </tr>\n",
       "    <tr>\n",
       "      <th>4</th>\n",
       "      <td>A-2716604</td>\n",
       "      <td>2</td>\n",
       "      <td>2016-02-08 06:51:45</td>\n",
       "      <td>2016-02-08 12:51:45</td>\n",
       "      <td>0.123</td>\n",
       "      <td>At Dart Ave/Exit 21 - Accident.</td>\n",
       "      <td>41.06213</td>\n",
       "      <td>-81.53784</td>\n",
       "      <td>41.06217</td>\n",
       "      <td>-81.53547</td>\n",
       "      <td>...</td>\n",
       "      <td>False</td>\n",
       "      <td>False</td>\n",
       "      <td>False</td>\n",
       "      <td>False</td>\n",
       "      <td>Night</td>\n",
       "      <td>Night</td>\n",
       "      <td>Day</td>\n",
       "      <td>Day</td>\n",
       "      <td>1</td>\n",
       "      <td>6</td>\n",
       "    </tr>\n",
       "    <tr>\n",
       "      <th>...</th>\n",
       "      <td>...</td>\n",
       "      <td>...</td>\n",
       "      <td>...</td>\n",
       "      <td>...</td>\n",
       "      <td>...</td>\n",
       "      <td>...</td>\n",
       "      <td>...</td>\n",
       "      <td>...</td>\n",
       "      <td>...</td>\n",
       "      <td>...</td>\n",
       "      <td>...</td>\n",
       "      <td>...</td>\n",
       "      <td>...</td>\n",
       "      <td>...</td>\n",
       "      <td>...</td>\n",
       "      <td>...</td>\n",
       "      <td>...</td>\n",
       "      <td>...</td>\n",
       "      <td>...</td>\n",
       "      <td>...</td>\n",
       "      <td>...</td>\n",
       "    </tr>\n",
       "    <tr>\n",
       "      <th>1516059</th>\n",
       "      <td>A-4239402</td>\n",
       "      <td>2</td>\n",
       "      <td>2019-08-23 18:03:25</td>\n",
       "      <td>2019-08-23 18:32:01</td>\n",
       "      <td>0.543</td>\n",
       "      <td>At Market St - Accident.</td>\n",
       "      <td>34.00248</td>\n",
       "      <td>-117.37936</td>\n",
       "      <td>33.99888</td>\n",
       "      <td>-117.37094</td>\n",
       "      <td>...</td>\n",
       "      <td>False</td>\n",
       "      <td>False</td>\n",
       "      <td>False</td>\n",
       "      <td>False</td>\n",
       "      <td>Day</td>\n",
       "      <td>Day</td>\n",
       "      <td>Day</td>\n",
       "      <td>Day</td>\n",
       "      <td>1</td>\n",
       "      <td>18</td>\n",
       "    </tr>\n",
       "    <tr>\n",
       "      <th>1516060</th>\n",
       "      <td>A-4239403</td>\n",
       "      <td>2</td>\n",
       "      <td>2019-08-23 19:11:30</td>\n",
       "      <td>2019-08-23 19:38:23</td>\n",
       "      <td>0.338</td>\n",
       "      <td>At Camino Del Rio/Mission Center Rd - Accident.</td>\n",
       "      <td>32.76696</td>\n",
       "      <td>-117.14806</td>\n",
       "      <td>32.76555</td>\n",
       "      <td>-117.15363</td>\n",
       "      <td>...</td>\n",
       "      <td>False</td>\n",
       "      <td>False</td>\n",
       "      <td>False</td>\n",
       "      <td>False</td>\n",
       "      <td>Day</td>\n",
       "      <td>Day</td>\n",
       "      <td>Day</td>\n",
       "      <td>Day</td>\n",
       "      <td>1</td>\n",
       "      <td>19</td>\n",
       "    </tr>\n",
       "    <tr>\n",
       "      <th>1516061</th>\n",
       "      <td>A-4239404</td>\n",
       "      <td>2</td>\n",
       "      <td>2019-08-23 19:00:21</td>\n",
       "      <td>2019-08-23 19:28:49</td>\n",
       "      <td>0.561</td>\n",
       "      <td>At Glassell St/Grand Ave - Accident. in the ri...</td>\n",
       "      <td>33.77545</td>\n",
       "      <td>-117.84779</td>\n",
       "      <td>33.77740</td>\n",
       "      <td>-117.85727</td>\n",
       "      <td>...</td>\n",
       "      <td>False</td>\n",
       "      <td>False</td>\n",
       "      <td>False</td>\n",
       "      <td>False</td>\n",
       "      <td>Day</td>\n",
       "      <td>Day</td>\n",
       "      <td>Day</td>\n",
       "      <td>Day</td>\n",
       "      <td>1</td>\n",
       "      <td>19</td>\n",
       "    </tr>\n",
       "    <tr>\n",
       "      <th>1516062</th>\n",
       "      <td>A-4239405</td>\n",
       "      <td>2</td>\n",
       "      <td>2019-08-23 19:00:21</td>\n",
       "      <td>2019-08-23 19:29:42</td>\n",
       "      <td>0.772</td>\n",
       "      <td>At CA-90/Marina Fwy/Jefferson Blvd - Accident.</td>\n",
       "      <td>33.99246</td>\n",
       "      <td>-118.40302</td>\n",
       "      <td>33.98311</td>\n",
       "      <td>-118.39565</td>\n",
       "      <td>...</td>\n",
       "      <td>False</td>\n",
       "      <td>False</td>\n",
       "      <td>False</td>\n",
       "      <td>False</td>\n",
       "      <td>Day</td>\n",
       "      <td>Day</td>\n",
       "      <td>Day</td>\n",
       "      <td>Day</td>\n",
       "      <td>1</td>\n",
       "      <td>19</td>\n",
       "    </tr>\n",
       "    <tr>\n",
       "      <th>1516063</th>\n",
       "      <td>A-4239406</td>\n",
       "      <td>2</td>\n",
       "      <td>2019-08-23 18:52:06</td>\n",
       "      <td>2019-08-23 19:21:31</td>\n",
       "      <td>0.537</td>\n",
       "      <td>At Highland Ave/Arden Ave - Accident.</td>\n",
       "      <td>34.13393</td>\n",
       "      <td>-117.23092</td>\n",
       "      <td>34.13736</td>\n",
       "      <td>-117.23934</td>\n",
       "      <td>...</td>\n",
       "      <td>False</td>\n",
       "      <td>False</td>\n",
       "      <td>False</td>\n",
       "      <td>False</td>\n",
       "      <td>Day</td>\n",
       "      <td>Day</td>\n",
       "      <td>Day</td>\n",
       "      <td>Day</td>\n",
       "      <td>1</td>\n",
       "      <td>18</td>\n",
       "    </tr>\n",
       "  </tbody>\n",
       "</table>\n",
       "<p>1516064 rows × 47 columns</p>\n",
       "</div>"
      ],
      "text/plain": [
       "                ID  Severity          Start_Time             End_Time  \\\n",
       "0        A-2716600         3 2016-02-08 00:37:08  2016-02-08 06:37:08   \n",
       "1        A-2716601         2 2016-02-08 05:56:20  2016-02-08 11:56:20   \n",
       "2        A-2716602         2 2016-02-08 06:15:39  2016-02-08 12:15:39   \n",
       "3        A-2716603         2 2016-02-08 06:15:39  2016-02-08 12:15:39   \n",
       "4        A-2716604         2 2016-02-08 06:51:45  2016-02-08 12:51:45   \n",
       "...            ...       ...                 ...                  ...   \n",
       "1516059  A-4239402         2 2019-08-23 18:03:25  2019-08-23 18:32:01   \n",
       "1516060  A-4239403         2 2019-08-23 19:11:30  2019-08-23 19:38:23   \n",
       "1516061  A-4239404         2 2019-08-23 19:00:21  2019-08-23 19:28:49   \n",
       "1516062  A-4239405         2 2019-08-23 19:00:21  2019-08-23 19:29:42   \n",
       "1516063  A-4239406         2 2019-08-23 18:52:06  2019-08-23 19:21:31   \n",
       "\n",
       "         Distance(mi)                                        Description  \\\n",
       "0               3.230  Between Sawmill Rd/Exit 20 and OH-315/Olentang...   \n",
       "1               0.747                 At OH-4/OH-235/Exit 41 - Accident.   \n",
       "2               0.055                   At I-71/US-50/Exit 1 - Accident.   \n",
       "3               0.219                   At I-71/US-50/Exit 1 - Accident.   \n",
       "4               0.123                    At Dart Ave/Exit 21 - Accident.   \n",
       "...               ...                                                ...   \n",
       "1516059         0.543                           At Market St - Accident.   \n",
       "1516060         0.338    At Camino Del Rio/Mission Center Rd - Accident.   \n",
       "1516061         0.561  At Glassell St/Grand Ave - Accident. in the ri...   \n",
       "1516062         0.772     At CA-90/Marina Fwy/Jefferson Blvd - Accident.   \n",
       "1516063         0.537              At Highland Ave/Arden Ave - Accident.   \n",
       "\n",
       "         Start_Lat  Start_Lng   End_Lat    End_Lng  ...   Stop  \\\n",
       "0         40.10891  -83.09286  40.11206  -83.03187  ...  False   \n",
       "1         39.86542  -84.06280  39.86501  -84.04873  ...  False   \n",
       "2         39.10266  -84.52468  39.10209  -84.52396  ...  False   \n",
       "3         39.10148  -84.52341  39.09841  -84.52241  ...  False   \n",
       "4         41.06213  -81.53784  41.06217  -81.53547  ...  False   \n",
       "...            ...        ...       ...        ...  ...    ...   \n",
       "1516059   34.00248 -117.37936  33.99888 -117.37094  ...  False   \n",
       "1516060   32.76696 -117.14806  32.76555 -117.15363  ...  False   \n",
       "1516061   33.77545 -117.84779  33.77740 -117.85727  ...  False   \n",
       "1516062   33.99246 -118.40302  33.98311 -118.39565  ...  False   \n",
       "1516063   34.13393 -117.23092  34.13736 -117.23934  ...  False   \n",
       "\n",
       "        Traffic_Calming Traffic_Signal Turning_Loop Sunrise_Sunset  \\\n",
       "0                 False          False        False          Night   \n",
       "1                 False          False        False          Night   \n",
       "2                 False          False        False          Night   \n",
       "3                 False          False        False          Night   \n",
       "4                 False          False        False          Night   \n",
       "...                 ...            ...          ...            ...   \n",
       "1516059           False          False        False            Day   \n",
       "1516060           False          False        False            Day   \n",
       "1516061           False          False        False            Day   \n",
       "1516062           False          False        False            Day   \n",
       "1516063           False          False        False            Day   \n",
       "\n",
       "        Civil_Twilight Nautical_Twilight Astronomical_Twilight Count  \\\n",
       "0                Night             Night                 Night     1   \n",
       "1                Night             Night                 Night     1   \n",
       "2                Night             Night                   Day     1   \n",
       "3                Night             Night                   Day     1   \n",
       "4                Night               Day                   Day     1   \n",
       "...                ...               ...                   ...   ...   \n",
       "1516059            Day               Day                   Day     1   \n",
       "1516060            Day               Day                   Day     1   \n",
       "1516061            Day               Day                   Day     1   \n",
       "1516062            Day               Day                   Day     1   \n",
       "1516063            Day               Day                   Day     1   \n",
       "\n",
       "        Start_Time_Hour  \n",
       "0                     0  \n",
       "1                     5  \n",
       "2                     6  \n",
       "3                     6  \n",
       "4                     6  \n",
       "...                 ...  \n",
       "1516059              18  \n",
       "1516060              19  \n",
       "1516061              19  \n",
       "1516062              19  \n",
       "1516063              18  \n",
       "\n",
       "[1516064 rows x 47 columns]"
      ]
     },
     "execution_count": 24,
     "metadata": {},
     "output_type": "execute_result"
    }
   ],
   "source": [
    "# Creat a column that represent the hour only of each accident only\n",
    "file['Start_Time_Hour'] = file['Start_Time'].dt.hour\n",
    "file"
   ]
  },
  {
   "cell_type": "code",
   "execution_count": 25,
   "id": "03c11896",
   "metadata": {},
   "outputs": [
    {
     "data": {
      "text/plain": [
       "Start_Time_Hour\n",
       "0      46125\n",
       "1      43434\n",
       "2      38801\n",
       "3      32175\n",
       "4      29478\n",
       "5      40105\n",
       "6      57859\n",
       "7      73938\n",
       "8      75802\n",
       "9      59744\n",
       "10     50442\n",
       "11     51884\n",
       "12     72283\n",
       "13     83700\n",
       "14     90162\n",
       "15    100074\n",
       "16    105559\n",
       "17    108011\n",
       "18     91413\n",
       "19     65190\n",
       "20     53515\n",
       "21     48988\n",
       "22     49156\n",
       "23     48226\n",
       "Name: Count, dtype: int64"
      ]
     },
     "execution_count": 25,
     "metadata": {},
     "output_type": "execute_result"
    }
   ],
   "source": [
    "file.groupby('Start_Time_Hour')['Count'].sum()"
   ]
  },
  {
   "cell_type": "code",
   "execution_count": 26,
   "id": "487f85d5",
   "metadata": {},
   "outputs": [
    {
     "data": {
      "image/png": "[encoded data removed]",
      "text/plain": [
       "<Figure size 432x288 with 1 Axes>"
      ]
     },
     "metadata": {
      "needs_background": "light"
     },
     "output_type": "display_data"
    }
   ],
   "source": [
    "import matplotlib.pyplot as plt\n",
    "\n",
    "results = file.groupby('Start_Time_Hour')['Count'].sum()\n",
    "hours = [hour for hour,df in file.groupby('Start_Time_Hour')] \n",
    "\n",
    "plt.plot(hours, results, color ='r')\n",
    "plt.bar(hours, results)\n",
    "plt.xticks(hours)\n",
    "plt.ylabel('Number of Accidents')\n",
    "plt.xlabel('Hours')\n",
    "plt.show()\n"
   ]
  },
  {
   "cell_type": "code",
   "execution_count": 27,
   "id": "f1b2ddc0",
   "metadata": {},
   "outputs": [],
   "source": [
    "file['Start_Time_DayMonth'] = file['Start_Time'].dt.day"
   ]
  },
  {
   "cell_type": "code",
   "execution_count": 28,
   "id": "a58b3d23",
   "metadata": {},
   "outputs": [
    {
     "data": {
      "text/plain": [
       "Start_Time_DayMonth\n",
       "1     44565\n",
       "2     42777\n",
       "3     44700\n",
       "4     39014\n",
       "5     41317\n",
       "6     46626\n",
       "7     47869\n",
       "8     47586\n",
       "9     49007\n",
       "10    50708\n",
       "11    51219\n",
       "12    54623\n",
       "13    52237\n",
       "14    49447\n",
       "15    46656\n",
       "16    49764\n",
       "17    50733\n",
       "18    52193\n",
       "19    52196\n",
       "20    51543\n",
       "21    51034\n",
       "22    53388\n",
       "23    55903\n",
       "24    54602\n",
       "25    49999\n",
       "26    49408\n",
       "27    48310\n",
       "28    51851\n",
       "29    50888\n",
       "30    54565\n",
       "31    31336\n",
       "Name: Count, dtype: int64"
      ]
     },
     "execution_count": 28,
     "metadata": {},
     "output_type": "execute_result"
    }
   ],
   "source": [
    "file.groupby('Start_Time_DayMonth')['Count'].sum()"
   ]
  },
  {
   "cell_type": "code",
   "execution_count": 29,
   "id": "2e54f02a",
   "metadata": {},
   "outputs": [
    {
     "data": {
      "image/png": "[encoded data removed]",
      "text/plain": [
       "<Figure size 432x288 with 1 Axes>"
      ]
     },
     "metadata": {
      "needs_background": "light"
     },
     "output_type": "display_data"
    }
   ],
   "source": [
    "results = file.groupby('Start_Time_DayMonth')['Count'].sum()\n",
    "days = [day for day,df in file.groupby('Start_Time_DayMonth')] \n",
    "\n",
    "plt.scatter(days, results)\n",
    "plt.xticks(days, rotation = 'vertical')\n",
    "plt.ylabel('Number of Accidents')\n",
    "plt.xlabel('Days')\n",
    "plt.show()\n"
   ]
  },
  {
   "cell_type": "code",
   "execution_count": 30,
   "id": "a890ff93",
   "metadata": {},
   "outputs": [],
   "source": [
    "file['Start_Time_DayWeek'] = file['Start_Time'].dt.dayofweek"
   ]
  },
  {
   "cell_type": "code",
   "execution_count": 31,
   "id": "32ed669e",
   "metadata": {},
   "outputs": [
    {
     "data": {
      "text/plain": [
       "Start_Time_DayWeek\n",
       "0    235831\n",
       "1    250900\n",
       "2    255775\n",
       "3    258036\n",
       "4    254127\n",
       "5    137620\n",
       "6    123775\n",
       "Name: Count, dtype: int64"
      ]
     },
     "execution_count": 31,
     "metadata": {},
     "output_type": "execute_result"
    }
   ],
   "source": [
    "file.groupby('Start_Time_DayWeek')['Count'].sum()"
   ]
  },
  {
   "cell_type": "code",
   "execution_count": 32,
   "id": "deb0ecb1",
   "metadata": {},
   "outputs": [
    {
     "data": {
      "image/png": "[encoded data removed]",
      "text/plain": [
       "<Figure size 432x288 with 1 Axes>"
      ]
     },
     "metadata": {
      "needs_background": "light"
     },
     "output_type": "display_data"
    }
   ],
   "source": [
    "results = file.groupby('Start_Time_DayWeek')['Count'].sum()\n",
    "daysw = [dayw for dayw,df in file.groupby('Start_Time_DayWeek')] \n",
    "\n",
    "plt.plot(daysw, results, color ='r')\n",
    "plt.bar(daysw, results)\n",
    "plt.xticks(daysw)\n",
    "plt.ylabel('Number of Accidents')\n",
    "plt.xlabel('Days (0 ---> Monday)')\n",
    "plt.show()\n"
   ]
  },
  {
   "cell_type": "code",
   "execution_count": 33,
   "id": "ac231e9b",
   "metadata": {},
   "outputs": [],
   "source": [
    "time_dis_Sunday = file.Start_Time[file.Start_Time_DayWeek == 6].dt.hour\n",
    "time_dis_Monday = file.Start_Time[file.Start_Time_DayWeek == 0].dt.hour"
   ]
  },
  {
   "cell_type": "code",
   "execution_count": 34,
   "id": "a8094b99",
   "metadata": {},
   "outputs": [
    {
     "name": "stderr",
     "output_type": "stream",
     "text": [
      "C:\\ProgramData\\Anaconda3\\lib\\site-packages\\seaborn\\distributions.py:2557: FutureWarning: `distplot` is a deprecated function and will be removed in a future version. Please adapt your code to use either `displot` (a figure-level function with similar flexibility) or `histplot` (an axes-level function for histograms).\n",
      "  warnings.warn(msg, FutureWarning)\n"
     ]
    },
    {
     "data": {
      "text/plain": [
       "<AxesSubplot:xlabel='Start_Time', ylabel='Density'>"
      ]
     },
     "execution_count": 34,
     "metadata": {},
     "output_type": "execute_result"
    },
    {
     "data": {
      "image/png": "[encoded data removed]",
      "text/plain": [
       "<Figure size 432x288 with 1 Axes>"
      ]
     },
     "metadata": {
      "needs_background": "light"
     },
     "output_type": "display_data"
    }
   ],
   "source": [
    "sns.distplot(time_dis_Sunday,bins=24)"
   ]
  },
  {
   "cell_type": "code",
   "execution_count": 35,
   "id": "4fbef58d",
   "metadata": {},
   "outputs": [
    {
     "name": "stderr",
     "output_type": "stream",
     "text": [
      "C:\\ProgramData\\Anaconda3\\lib\\site-packages\\seaborn\\distributions.py:2557: FutureWarning: `distplot` is a deprecated function and will be removed in a future version. Please adapt your code to use either `displot` (a figure-level function with similar flexibility) or `histplot` (an axes-level function for histograms).\n",
      "  warnings.warn(msg, FutureWarning)\n"
     ]
    },
    {
     "data": {
      "text/plain": [
       "<AxesSubplot:xlabel='Start_Time', ylabel='Density'>"
      ]
     },
     "execution_count": 35,
     "metadata": {},
     "output_type": "execute_result"
    },
    {
     "data": {
      "image/png": "[encoded data removed]",
      "text/plain": [
       "<Figure size 432x288 with 1 Axes>"
      ]
     },
     "metadata": {
      "needs_background": "light"
     },
     "output_type": "display_data"
    }
   ],
   "source": [
    "sns.distplot(time_dis_Monday,bins=24)"
   ]
  },
  {
   "cell_type": "code",
   "execution_count": 36,
   "id": "00f2c3b5",
   "metadata": {},
   "outputs": [
    {
     "name": "stderr",
     "output_type": "stream",
     "text": [
      "C:\\ProgramData\\Anaconda3\\lib\\site-packages\\seaborn\\distributions.py:2557: FutureWarning: `distplot` is a deprecated function and will be removed in a future version. Please adapt your code to use either `displot` (a figure-level function with similar flexibility) or `histplot` (an axes-level function for histograms).\n",
      "  warnings.warn(msg, FutureWarning)\n"
     ]
    },
    {
     "data": {
      "text/plain": [
       "<AxesSubplot:xlabel='Start_Time', ylabel='Density'>"
      ]
     },
     "execution_count": 36,
     "metadata": {},
     "output_type": "execute_result"
    },
    {
     "data": {
      "image/png": "[encoded data removed]",
      "text/plain": [
       "<Figure size 432x288 with 1 Axes>"
      ]
     },
     "metadata": {
      "needs_background": "light"
     },
     "output_type": "display_data"
    }
   ],
   "source": [
    "sns.distplot(file['Start_Time'].dt.month,bins=12)"
   ]
  },
  {
   "cell_type": "code",
   "execution_count": 37,
   "id": "824b3a33",
   "metadata": {},
   "outputs": [
    {
     "name": "stderr",
     "output_type": "stream",
     "text": [
      "C:\\ProgramData\\Anaconda3\\lib\\site-packages\\seaborn\\distributions.py:2557: FutureWarning: `distplot` is a deprecated function and will be removed in a future version. Please adapt your code to use either `displot` (a figure-level function with similar flexibility) or `histplot` (an axes-level function for histograms).\n",
      "  warnings.warn(msg, FutureWarning)\n"
     ]
    },
    {
     "data": {
      "text/plain": [
       "<AxesSubplot:xlabel='Start_Time', ylabel='Density'>"
      ]
     },
     "execution_count": 37,
     "metadata": {},
     "output_type": "execute_result"
    },
    {
     "data": {
      "image/png": "[encoded data removed]",
      "text/plain": [
       "<Figure size 432x288 with 1 Axes>"
      ]
     },
     "metadata": {
      "needs_background": "light"
     },
     "output_type": "display_data"
    }
   ],
   "source": [
    "sns.distplot(file['Start_Time'].dt.year,bins=4)"
   ]
  },
  {
   "cell_type": "code",
   "execution_count": 38,
   "id": "b895a221",
   "metadata": {},
   "outputs": [
    {
     "name": "stderr",
     "output_type": "stream",
     "text": [
      "C:\\ProgramData\\Anaconda3\\lib\\site-packages\\seaborn\\distributions.py:2557: FutureWarning: `distplot` is a deprecated function and will be removed in a future version. Please adapt your code to use either `displot` (a figure-level function with similar flexibility) or `histplot` (an axes-level function for histograms).\n",
      "  warnings.warn(msg, FutureWarning)\n"
     ]
    },
    {
     "data": {
      "text/plain": [
       "<AxesSubplot:xlabel='Start_Time', ylabel='Density'>"
      ]
     },
     "execution_count": 38,
     "metadata": {},
     "output_type": "execute_result"
    },
    {
     "data": {
      "image/png": "[encoded data removed]",
      "text/plain": [
       "<Figure size 432x288 with 1 Axes>"
      ]
     },
     "metadata": {
      "needs_background": "light"
     },
     "output_type": "display_data"
    }
   ],
   "source": [
    "df2016 = file[file['Start_Time'].dt.year == 2020]\n",
    "\n",
    "df2016['Start_Time'].dt.month\n",
    "sns.distplot(df2016['Start_Time'].dt.month,bins=12)"
   ]
  },
  {
   "cell_type": "code",
   "execution_count": 166,
   "id": "790ee1ab",
   "metadata": {},
   "outputs": [
    {
     "name": "stdout",
     "output_type": "stream",
     "text": [
      "Day percentage: 0.6001316567110623\n",
      "Night percentage: 0.3998135962597885\n"
     ]
    },
    {
     "data": {
      "image/png": "[encoded data removed]",
      "text/plain": [
       "<Figure size 432x288 with 1 Axes>"
      ]
     },
     "metadata": {
      "needs_background": "light"
     },
     "output_type": "display_data"
    }
   ],
   "source": [
    "cond = [city for city,df in file.groupby('Sunrise_Sunset')]\n",
    "results = file.groupby('Sunrise_Sunset')['Count'].sum()\n",
    "\n",
    "\n",
    "# cities = [city for city,df in sales_file.groupby('City')] #### I still do not understand how he rearrange it\n",
    "# results = sales_file.groupby('City').sum()\n",
    "\n",
    "\n",
    "print('Day percentage:',file.groupby('Sunrise_Sunset')['Count'].sum()[0]/len(file))\n",
    "print('Night percentage:',file.groupby('Sunrise_Sunset')['Count'].sum()[1]/len(file))\n",
    "\n",
    "\n",
    "plt.bar(cond, results)\n",
    "plt.xlabel('Time')\n",
    "plt.ylabel('Number of Accidents')\n",
    "plt.show()\n"
   ]
  },
  {
   "cell_type": "markdown",
   "id": "be54525b",
   "metadata": {},
   "source": [
    "# Analysing Start Ling. & Long."
   ]
  },
  {
   "cell_type": "code",
   "execution_count": 39,
   "id": "a3c8e985",
   "metadata": {},
   "outputs": [
    {
     "data": {
      "text/plain": [
       "<AxesSubplot:xlabel='Start_Lng', ylabel='Start_Lat'>"
      ]
     },
     "execution_count": 39,
     "metadata": {},
     "output_type": "execute_result"
    },
    {
     "data": {
      "image/png": "[encoded data removed]",
      "text/plain": [
       "<Figure size 432x288 with 1 Axes>"
      ]
     },
     "metadata": {
      "needs_background": "light"
     },
     "output_type": "display_data"
    }
   ],
   "source": [
    "\n",
    "sns.scatterplot(x=file.Start_Lng, y=file.Start_Lat, size=0.001)"
   ]
  },
  {
   "cell_type": "code",
   "execution_count": 40,
   "id": "dfd7fe77",
   "metadata": {},
   "outputs": [
    {
     "name": "stdout",
     "output_type": "stream",
     "text": [
      "Requirement already satisfied: folium in c:\\programdata\\anaconda3\\lib\\site-packages (0.12.1.post1)\n",
      "Requirement already satisfied: branca>=0.3.0 in c:\\programdata\\anaconda3\\lib\\site-packages (from folium) (0.4.2)\n",
      "Requirement already satisfied: numpy in c:\\programdata\\anaconda3\\lib\\site-packages (from folium) (1.20.1)\n",
      "Requirement already satisfied: requests in c:\\programdata\\anaconda3\\lib\\site-packages (from folium) (2.25.1)\n",
      "Requirement already satisfied: jinja2>=2.9 in c:\\programdata\\anaconda3\\lib\\site-packages (from folium) (2.11.3)\n",
      "Requirement already satisfied: MarkupSafe>=0.23 in c:\\programdata\\anaconda3\\lib\\site-packages (from jinja2>=2.9->folium) (1.1.1)\n",
      "Requirement already satisfied: urllib3<1.27,>=1.21.1 in c:\\programdata\\anaconda3\\lib\\site-packages (from requests->folium) (1.26.4)\n",
      "Requirement already satisfied: idna<3,>=2.5 in c:\\programdata\\anaconda3\\lib\\site-packages (from requests->folium) (2.10)\n",
      "Requirement already satisfied: certifi>=2017.4.17 in c:\\programdata\\anaconda3\\lib\\site-packages (from requests->folium) (2020.12.5)\n",
      "Requirement already satisfied: chardet<5,>=3.0.2 in c:\\programdata\\anaconda3\\lib\\site-packages (from requests->folium) (4.0.0)\n"
     ]
    }
   ],
   "source": [
    "# import folium\n",
    "!pip install folium\n",
    "import folium"
   ]
  },
  {
   "cell_type": "markdown",
   "id": "943a777b",
   "metadata": {},
   "source": [
    "## Analysing Severity "
   ]
  },
  {
   "cell_type": "code",
   "execution_count": 187,
   "id": "d7a46220",
   "metadata": {},
   "outputs": [
    {
     "name": "stdout",
     "output_type": "stream",
     "text": [
      "Severity\n",
      "1      28178\n",
      "2    1212382\n",
      "3     161052\n",
      "4     114452\n",
      "Name: Count, dtype: int64\n"
     ]
    },
    {
     "data": {
      "image/png": "[encoded data removed]",
      "text/plain": [
       "<Figure size 432x288 with 1 Axes>"
      ]
     },
     "metadata": {
      "needs_background": "light"
     },
     "output_type": "display_data"
    }
   ],
   "source": [
    "print(file.groupby('Severity')['Count'].sum())\n",
    "\n",
    "\n",
    "severity = [severity for severity,df in file.groupby('Severity')]\n",
    "results = file.groupby('Severity')['Count'].sum()\n",
    "\n",
    "# plt.bar(severity, results)\n",
    "\n",
    "barlist=plt.bar(severity, results)\n",
    "colors = ['g','y','orange','r']\n",
    "for i in range(4):\n",
    "    barlist[i].set_color(colors[i])\n",
    "plt.title('Severity | # of Accidents')\n",
    "plt.xlabel('Severity')\n",
    "plt.ylabel('Number of Accidents')\n",
    "plt.show()\n"
   ]
  },
  {
   "cell_type": "markdown",
   "id": "1df59c88",
   "metadata": {},
   "source": [
    "# Conclusions:\n",
    "\n",
    "## Insights:\n",
    "    1- No data for NYC\n",
    "    2- less than 2.5% of the cities have more than 1000 accidents\n",
    "    3- LA and Miami have the highest number of accidents among all cities in US (NOT per capita (it is not a good insight))\n",
    "    4- A high percentage of accidents occurs between 6AM - 9AM and 12PM - 6PM (Obviouly people in hurry to go work or back from work OR people are tired- did not get enough sleep/ worked hard and got tired.)\n",
    "    5- Weekdays have much higher accidents than weekends (especially from Wendsday to Friday)\n",
    "    6- We can see that the day of the month does not show any direct correlation with the number of accidents.\n",
    "    7- The distribution of accidents in week days differ than weekends!!\n",
    "    8- There missing data in 2016 and in 2020 \n",
    "    9- The trend of the number of accidents per year is an increasing trend\n",
    "    10- 60% of the accidents happen at day time!!\n",
    "    11- From the scatter of the Lang. and Lat. we can see that the center regions have less number of accidents while the east regions have the highest number of accidents (this could be due to the missing data though)\n",
    "    12- Most accidents are of severity '2'.\n",
    "    "
   ]
  }
 ],
 "metadata": {
  "kernelspec": {
   "display_name": "Python 3",
   "language": "python",
   "name": "python3"
  }
 },
 "nbformat": 4,
 "nbformat_minor": 5
}
